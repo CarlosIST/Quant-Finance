{
  "nbformat": 4,
  "nbformat_minor": 0,
  "metadata": {
    "colab": {
      "name": "FIN1_Portfolio_Optimization.ipynb",
      "provenance": [],
      "collapsed_sections": []
    },
    "kernelspec": {
      "name": "python3",
      "display_name": "Python 3"
    },
    "language_info": {
      "name": "python"
    }
  },
  "cells": [
    {
      "cell_type": "markdown",
      "source": [
        "# Finance 1: Portfolio Optimization\n",
        "\n",
        "#### By Carlos Santillán\n",
        "\n",
        "#### February 2022"
      ],
      "metadata": {
        "id": "QhB_mRmmUys-"
      }
    },
    {
      "cell_type": "markdown",
      "source": [
        "## What is Portfolio Optimization?"
      ],
      "metadata": {
        "id": "WUdTon8UU9H6"
      }
    },
    {
      "cell_type": "markdown",
      "source": [
        "Portfolio optimization is the process of creating a portfolio of assets, for which your investment has the maximum return and minimum risk."
      ],
      "metadata": {
        "id": "nti7K1u0VFMF"
      }
    },
    {
      "cell_type": "markdown",
      "source": [
        "## What are assets, returns and risk?\n"
      ],
      "metadata": {
        "id": "SWqXrJlsVJje"
      }
    },
    {
      "cell_type": "markdown",
      "source": [
        "Assets include, but are not limited to:\n",
        "\n",
        "- Bonds\n",
        "- Stocks\n",
        "- Cash\n",
        "- Real Estate\n",
        "\n",
        "Usually when you build a portfolio, it is advisable to diversify your assets, or purchase different kinds of assets from different companies. For all assets, you will get a profit after a specified period of time. However, the profit may not be the same for each investment you make.\n",
        "\n",
        "This profit is what we call returns.\n",
        "\n",
        "For example, you will get returns from stocks when it’s market value goes up and similarly you will get returns from cash in form of interest.\n",
        "\n",
        "But what if the company whose stocks you have purchased goes bankrupt?"
      ],
      "metadata": {
        "id": "By3fqTDVVJ0Y"
      }
    },
    {
      "cell_type": "markdown",
      "source": [
        "This will lead to its stocks crashing in the share market and instead of gaining profits, you will also lose your capital investment.\n",
        "\n",
        "This is what is called **risk of investment**.\n",
        "\n",
        "Another aspect of risk is the fluctuations in the asset value. For certain assets, its value is highly volatile, that is, the value increases when the market goes up, and drops accordingly. Whereas certain other assets, like bonds and certain steady stocks, are relatively more resistant to market conditions, but may give lesser returns compared to high risk ones.\n",
        "\n",
        "A good portfolio is one which gives us **maximum return on our investment for minimum risk**, as discussed earlier."
      ],
      "metadata": {
        "id": "hVG5p69zVJ83"
      }
    },
    {
      "cell_type": "markdown",
      "source": [
        "## Modern Portfolio Theory (MTP)"
      ],
      "metadata": {
        "id": "SUBzFn3BV6JF"
      }
    },
    {
      "cell_type": "markdown",
      "source": [
        "**Modern Portfolio Theory, or also known as mean-variance analysis is a mathematical process which allows the user to maximize returns for a given risk level**.\n",
        "\n",
        "It was formulated by H. Markowitz and while it is not the only optimization technique known, it is the most widely used.\n",
        "\n",
        "MPT assumes that all investors are risk-averse, i.e, if there is a choice between low risk and high risk portfolios with the same returns, an investor will choose one with the low risk.\n",
        "\n",
        "So, what is the MPT all about?\n",
        "\n",
        "MPT encourages diversification of assets. It says that a high variance asset A if combined with diverse assets B and C, where A, B and C have little to no correlation, can give us a portfolio with low variance on returns."
      ],
      "metadata": {
        "id": "NiEEVNXUV6VY"
      }
    },
    {
      "cell_type": "markdown",
      "source": [
        "## What is the Efficient Frontier?"
      ],
      "metadata": {
        "id": "xUE1_SvCV6fM"
      }
    },
    {
      "cell_type": "markdown",
      "source": [
        "We know every asset in a portfolio has its own rate expected returns and risks. It is possible to create multiple combinations of assets that can provide high returns for a pre-defined risk level.\n",
        "\n",
        "Likewise, there can be multiple portfolios that give lowest risk for a pre-defined expected return.\n",
        "\n",
        "**Efficient frontier is a graph with ‘returns’ on the Y-axis and ‘volatility’ on the X-axis**. It shows the set of optimal portfolios that offer the highest expected return for a given risk level or the lowest risk for a given level of expected return."
      ],
      "metadata": {
        "id": "fTI3QcsOV6n2"
      }
    },
    {
      "cell_type": "markdown",
      "source": [
        "Portfolios that lie outside the efficient frontier are sub-optimal because they do not provide either enough return for the level of risk or have a higher risk for the defined rate of return."
      ],
      "metadata": {
        "id": "8bvFUH6-V6xJ"
      }
    },
    {
      "cell_type": "markdown",
      "source": [
        "## Fundamentals in Portfolio Optimization"
      ],
      "metadata": {
        "id": "DHzVteO7VKF6"
      }
    },
    {
      "cell_type": "markdown",
      "source": [
        "### Stock Price Data"
      ],
      "metadata": {
        "id": "rfqSBMWwWoKU"
      }
    },
    {
      "cell_type": "markdown",
      "source": [
        "The first step is to is to pull the required data from a verified site such as Yahoo or Quandl. The example below uses Yahoo and the dates for which we will be pulling the data is from 1st January, 2018 to 31st December, 2021."
      ],
      "metadata": {
        "id": "B2sYc_brWoTF"
      }
    },
    {
      "cell_type": "code",
      "source": [
        "import numpy as np\n",
        "import pandas as pd\n",
        "from pandas_datareader import data\n",
        "import matplotlib.pyplot as plt\n",
        "%matplotlib inline"
      ],
      "metadata": {
        "id": "xGiAZt23WocZ"
      },
      "execution_count": 23,
      "outputs": []
    },
    {
      "cell_type": "code",
      "source": [
        "!pip install yfinance"
      ],
      "metadata": {
        "colab": {
          "base_uri": "https://localhost:8080/"
        },
        "id": "CzsEmI31Xbd3",
        "outputId": "ef9cc795-c335-4dbc-da69-8d419ef9fba0"
      },
      "execution_count": 24,
      "outputs": [
        {
          "output_type": "stream",
          "name": "stdout",
          "text": [
            "Requirement already satisfied: yfinance in /usr/local/lib/python3.7/dist-packages (0.1.70)\n",
            "Requirement already satisfied: multitasking>=0.0.7 in /usr/local/lib/python3.7/dist-packages (from yfinance) (0.0.10)\n",
            "Requirement already satisfied: lxml>=4.5.1 in /usr/local/lib/python3.7/dist-packages (from yfinance) (4.7.1)\n",
            "Requirement already satisfied: requests>=2.26 in /usr/local/lib/python3.7/dist-packages (from yfinance) (2.27.1)\n",
            "Requirement already satisfied: numpy>=1.15 in /usr/local/lib/python3.7/dist-packages (from yfinance) (1.19.5)\n",
            "Requirement already satisfied: pandas>=0.24.0 in /usr/local/lib/python3.7/dist-packages (from yfinance) (1.3.5)\n",
            "Requirement already satisfied: python-dateutil>=2.7.3 in /usr/local/lib/python3.7/dist-packages (from pandas>=0.24.0->yfinance) (2.8.2)\n",
            "Requirement already satisfied: pytz>=2017.3 in /usr/local/lib/python3.7/dist-packages (from pandas>=0.24.0->yfinance) (2018.9)\n",
            "Requirement already satisfied: six>=1.5 in /usr/local/lib/python3.7/dist-packages (from python-dateutil>=2.7.3->pandas>=0.24.0->yfinance) (1.15.0)\n",
            "Requirement already satisfied: certifi>=2017.4.17 in /usr/local/lib/python3.7/dist-packages (from requests>=2.26->yfinance) (2021.10.8)\n",
            "Requirement already satisfied: urllib3<1.27,>=1.21.1 in /usr/local/lib/python3.7/dist-packages (from requests>=2.26->yfinance) (1.24.3)\n",
            "Requirement already satisfied: idna<4,>=2.5 in /usr/local/lib/python3.7/dist-packages (from requests>=2.26->yfinance) (2.10)\n",
            "Requirement already satisfied: charset-normalizer~=2.0.0 in /usr/local/lib/python3.7/dist-packages (from requests>=2.26->yfinance) (2.0.11)\n"
          ]
        }
      ]
    },
    {
      "cell_type": "code",
      "source": [
        "import yfinance as yf"
      ],
      "metadata": {
        "id": "TSa0_U4RXlnd"
      },
      "execution_count": 25,
      "outputs": []
    },
    {
      "cell_type": "code",
      "source": [
        "test = yf.download('BLK FB', start='2018-01-01', end='2021-12-31')\n",
        "test.head()"
      ],
      "metadata": {
        "colab": {
          "base_uri": "https://localhost:8080/",
          "height": 437
        },
        "id": "AxEgaX88XsJV",
        "outputId": "c2571d53-a99b-4b8d-82f0-446fe75c4dcd"
      },
      "execution_count": 26,
      "outputs": [
        {
          "output_type": "stream",
          "name": "stdout",
          "text": [
            "[*********************100%***********************]  2 of 2 completed\n"
          ]
        },
        {
          "output_type": "execute_result",
          "data": {
            "text/html": [
              "\n",
              "  <div id=\"df-4a8273ba-99ef-4d1e-9ba8-3ffc092ef56f\">\n",
              "    <div class=\"colab-df-container\">\n",
              "      <div>\n",
              "<style scoped>\n",
              "    .dataframe tbody tr th:only-of-type {\n",
              "        vertical-align: middle;\n",
              "    }\n",
              "\n",
              "    .dataframe tbody tr th {\n",
              "        vertical-align: top;\n",
              "    }\n",
              "\n",
              "    .dataframe thead tr th {\n",
              "        text-align: left;\n",
              "    }\n",
              "\n",
              "    .dataframe thead tr:last-of-type th {\n",
              "        text-align: right;\n",
              "    }\n",
              "</style>\n",
              "<table border=\"1\" class=\"dataframe\">\n",
              "  <thead>\n",
              "    <tr>\n",
              "      <th></th>\n",
              "      <th colspan=\"2\" halign=\"left\">Adj Close</th>\n",
              "      <th colspan=\"2\" halign=\"left\">Close</th>\n",
              "      <th colspan=\"2\" halign=\"left\">High</th>\n",
              "      <th colspan=\"2\" halign=\"left\">Low</th>\n",
              "      <th colspan=\"2\" halign=\"left\">Open</th>\n",
              "      <th colspan=\"2\" halign=\"left\">Volume</th>\n",
              "    </tr>\n",
              "    <tr>\n",
              "      <th></th>\n",
              "      <th>BLK</th>\n",
              "      <th>FB</th>\n",
              "      <th>BLK</th>\n",
              "      <th>FB</th>\n",
              "      <th>BLK</th>\n",
              "      <th>FB</th>\n",
              "      <th>BLK</th>\n",
              "      <th>FB</th>\n",
              "      <th>BLK</th>\n",
              "      <th>FB</th>\n",
              "      <th>BLK</th>\n",
              "      <th>FB</th>\n",
              "    </tr>\n",
              "    <tr>\n",
              "      <th>Date</th>\n",
              "      <th></th>\n",
              "      <th></th>\n",
              "      <th></th>\n",
              "      <th></th>\n",
              "      <th></th>\n",
              "      <th></th>\n",
              "      <th></th>\n",
              "      <th></th>\n",
              "      <th></th>\n",
              "      <th></th>\n",
              "      <th></th>\n",
              "      <th></th>\n",
              "    </tr>\n",
              "  </thead>\n",
              "  <tbody>\n",
              "    <tr>\n",
              "      <th>2018-01-02</th>\n",
              "      <td>460.668701</td>\n",
              "      <td>181.419998</td>\n",
              "      <td>508.970001</td>\n",
              "      <td>181.419998</td>\n",
              "      <td>518.780029</td>\n",
              "      <td>181.580002</td>\n",
              "      <td>506.480011</td>\n",
              "      <td>177.550003</td>\n",
              "      <td>518.780029</td>\n",
              "      <td>177.679993</td>\n",
              "      <td>526400</td>\n",
              "      <td>18151900</td>\n",
              "    </tr>\n",
              "    <tr>\n",
              "      <th>2018-01-03</th>\n",
              "      <td>465.529175</td>\n",
              "      <td>184.669998</td>\n",
              "      <td>514.340027</td>\n",
              "      <td>184.669998</td>\n",
              "      <td>514.739990</td>\n",
              "      <td>184.779999</td>\n",
              "      <td>508.160004</td>\n",
              "      <td>181.330002</td>\n",
              "      <td>508.660004</td>\n",
              "      <td>181.880005</td>\n",
              "      <td>448700</td>\n",
              "      <td>16886600</td>\n",
              "    </tr>\n",
              "    <tr>\n",
              "      <th>2018-01-04</th>\n",
              "      <td>471.674744</td>\n",
              "      <td>184.330002</td>\n",
              "      <td>521.130005</td>\n",
              "      <td>184.330002</td>\n",
              "      <td>521.309998</td>\n",
              "      <td>186.210007</td>\n",
              "      <td>515.010010</td>\n",
              "      <td>184.100006</td>\n",
              "      <td>516.500000</td>\n",
              "      <td>184.899994</td>\n",
              "      <td>389800</td>\n",
              "      <td>13880900</td>\n",
              "    </tr>\n",
              "    <tr>\n",
              "      <th>2018-01-05</th>\n",
              "      <td>475.693390</td>\n",
              "      <td>186.850006</td>\n",
              "      <td>525.570007</td>\n",
              "      <td>186.850006</td>\n",
              "      <td>525.940002</td>\n",
              "      <td>186.899994</td>\n",
              "      <td>520.890015</td>\n",
              "      <td>184.929993</td>\n",
              "      <td>523.859985</td>\n",
              "      <td>185.589996</td>\n",
              "      <td>483000</td>\n",
              "      <td>13574500</td>\n",
              "    </tr>\n",
              "    <tr>\n",
              "      <th>2018-01-08</th>\n",
              "      <td>479.241364</td>\n",
              "      <td>188.279999</td>\n",
              "      <td>529.489990</td>\n",
              "      <td>188.279999</td>\n",
              "      <td>529.719971</td>\n",
              "      <td>188.899994</td>\n",
              "      <td>523.520020</td>\n",
              "      <td>186.330002</td>\n",
              "      <td>523.940002</td>\n",
              "      <td>187.199997</td>\n",
              "      <td>561500</td>\n",
              "      <td>17994700</td>\n",
              "    </tr>\n",
              "  </tbody>\n",
              "</table>\n",
              "</div>\n",
              "      <button class=\"colab-df-convert\" onclick=\"convertToInteractive('df-4a8273ba-99ef-4d1e-9ba8-3ffc092ef56f')\"\n",
              "              title=\"Convert this dataframe to an interactive table.\"\n",
              "              style=\"display:none;\">\n",
              "        \n",
              "  <svg xmlns=\"http://www.w3.org/2000/svg\" height=\"24px\"viewBox=\"0 0 24 24\"\n",
              "       width=\"24px\">\n",
              "    <path d=\"M0 0h24v24H0V0z\" fill=\"none\"/>\n",
              "    <path d=\"M18.56 5.44l.94 2.06.94-2.06 2.06-.94-2.06-.94-.94-2.06-.94 2.06-2.06.94zm-11 1L8.5 8.5l.94-2.06 2.06-.94-2.06-.94L8.5 2.5l-.94 2.06-2.06.94zm10 10l.94 2.06.94-2.06 2.06-.94-2.06-.94-.94-2.06-.94 2.06-2.06.94z\"/><path d=\"M17.41 7.96l-1.37-1.37c-.4-.4-.92-.59-1.43-.59-.52 0-1.04.2-1.43.59L10.3 9.45l-7.72 7.72c-.78.78-.78 2.05 0 2.83L4 21.41c.39.39.9.59 1.41.59.51 0 1.02-.2 1.41-.59l7.78-7.78 2.81-2.81c.8-.78.8-2.07 0-2.86zM5.41 20L4 18.59l7.72-7.72 1.47 1.35L5.41 20z\"/>\n",
              "  </svg>\n",
              "      </button>\n",
              "      \n",
              "  <style>\n",
              "    .colab-df-container {\n",
              "      display:flex;\n",
              "      flex-wrap:wrap;\n",
              "      gap: 12px;\n",
              "    }\n",
              "\n",
              "    .colab-df-convert {\n",
              "      background-color: #E8F0FE;\n",
              "      border: none;\n",
              "      border-radius: 50%;\n",
              "      cursor: pointer;\n",
              "      display: none;\n",
              "      fill: #1967D2;\n",
              "      height: 32px;\n",
              "      padding: 0 0 0 0;\n",
              "      width: 32px;\n",
              "    }\n",
              "\n",
              "    .colab-df-convert:hover {\n",
              "      background-color: #E2EBFA;\n",
              "      box-shadow: 0px 1px 2px rgba(60, 64, 67, 0.3), 0px 1px 3px 1px rgba(60, 64, 67, 0.15);\n",
              "      fill: #174EA6;\n",
              "    }\n",
              "\n",
              "    [theme=dark] .colab-df-convert {\n",
              "      background-color: #3B4455;\n",
              "      fill: #D2E3FC;\n",
              "    }\n",
              "\n",
              "    [theme=dark] .colab-df-convert:hover {\n",
              "      background-color: #434B5C;\n",
              "      box-shadow: 0px 1px 3px 1px rgba(0, 0, 0, 0.15);\n",
              "      filter: drop-shadow(0px 1px 2px rgba(0, 0, 0, 0.3));\n",
              "      fill: #FFFFFF;\n",
              "    }\n",
              "  </style>\n",
              "\n",
              "      <script>\n",
              "        const buttonEl =\n",
              "          document.querySelector('#df-4a8273ba-99ef-4d1e-9ba8-3ffc092ef56f button.colab-df-convert');\n",
              "        buttonEl.style.display =\n",
              "          google.colab.kernel.accessAllowed ? 'block' : 'none';\n",
              "\n",
              "        async function convertToInteractive(key) {\n",
              "          const element = document.querySelector('#df-4a8273ba-99ef-4d1e-9ba8-3ffc092ef56f');\n",
              "          const dataTable =\n",
              "            await google.colab.kernel.invokeFunction('convertToInteractive',\n",
              "                                                     [key], {});\n",
              "          if (!dataTable) return;\n",
              "\n",
              "          const docLinkHtml = 'Like what you see? Visit the ' +\n",
              "            '<a target=\"_blank\" href=https://colab.research.google.com/notebooks/data_table.ipynb>data table notebook</a>'\n",
              "            + ' to learn more about interactive tables.';\n",
              "          element.innerHTML = '';\n",
              "          dataTable['output_type'] = 'display_data';\n",
              "          await google.colab.output.renderOutput(dataTable, element);\n",
              "          const docLink = document.createElement('div');\n",
              "          docLink.innerHTML = docLinkHtml;\n",
              "          element.appendChild(docLink);\n",
              "        }\n",
              "      </script>\n",
              "    </div>\n",
              "  </div>\n",
              "  "
            ],
            "text/plain": [
              "             Adj Close                   Close  ...        Open  Volume          \n",
              "                   BLK          FB         BLK  ...          FB     BLK        FB\n",
              "Date                                            ...                              \n",
              "2018-01-02  460.668701  181.419998  508.970001  ...  177.679993  526400  18151900\n",
              "2018-01-03  465.529175  184.669998  514.340027  ...  181.880005  448700  16886600\n",
              "2018-01-04  471.674744  184.330002  521.130005  ...  184.899994  389800  13880900\n",
              "2018-01-05  475.693390  186.850006  525.570007  ...  185.589996  483000  13574500\n",
              "2018-01-08  479.241364  188.279999  529.489990  ...  187.199997  561500  17994700\n",
              "\n",
              "[5 rows x 12 columns]"
            ]
          },
          "metadata": {},
          "execution_count": 26
        }
      ]
    },
    {
      "cell_type": "markdown",
      "source": [
        "As you can see, there are a lot of different columns for different prices throughout the day, but we will only focus on the ‘Adj Close’ column. This colum gives us the closing price of company’s stock on the given day."
      ],
      "metadata": {
        "id": "mu4YAl4xW8rQ"
      }
    },
    {
      "cell_type": "code",
      "source": [
        "test = test['Adj Close']\n",
        "test.tail()"
      ],
      "metadata": {
        "colab": {
          "base_uri": "https://localhost:8080/",
          "height": 237
        },
        "id": "MfxLC78rWol7",
        "outputId": "e682162b-5887-412e-b0c8-053f4aedba91"
      },
      "execution_count": 27,
      "outputs": [
        {
          "output_type": "execute_result",
          "data": {
            "text/html": [
              "\n",
              "  <div id=\"df-2ed56f40-c04c-4238-bba8-d0394b52a081\">\n",
              "    <div class=\"colab-df-container\">\n",
              "      <div>\n",
              "<style scoped>\n",
              "    .dataframe tbody tr th:only-of-type {\n",
              "        vertical-align: middle;\n",
              "    }\n",
              "\n",
              "    .dataframe tbody tr th {\n",
              "        vertical-align: top;\n",
              "    }\n",
              "\n",
              "    .dataframe thead th {\n",
              "        text-align: right;\n",
              "    }\n",
              "</style>\n",
              "<table border=\"1\" class=\"dataframe\">\n",
              "  <thead>\n",
              "    <tr style=\"text-align: right;\">\n",
              "      <th></th>\n",
              "      <th>BLK</th>\n",
              "      <th>FB</th>\n",
              "    </tr>\n",
              "    <tr>\n",
              "      <th>Date</th>\n",
              "      <th></th>\n",
              "      <th></th>\n",
              "    </tr>\n",
              "  </thead>\n",
              "  <tbody>\n",
              "    <tr>\n",
              "      <th>2021-12-23</th>\n",
              "      <td>913.919983</td>\n",
              "      <td>335.239990</td>\n",
              "    </tr>\n",
              "    <tr>\n",
              "      <th>2021-12-27</th>\n",
              "      <td>922.570007</td>\n",
              "      <td>346.179993</td>\n",
              "    </tr>\n",
              "    <tr>\n",
              "      <th>2021-12-28</th>\n",
              "      <td>921.820007</td>\n",
              "      <td>346.220001</td>\n",
              "    </tr>\n",
              "    <tr>\n",
              "      <th>2021-12-29</th>\n",
              "      <td>909.719971</td>\n",
              "      <td>342.940002</td>\n",
              "    </tr>\n",
              "    <tr>\n",
              "      <th>2021-12-30</th>\n",
              "      <td>913.760010</td>\n",
              "      <td>344.359985</td>\n",
              "    </tr>\n",
              "  </tbody>\n",
              "</table>\n",
              "</div>\n",
              "      <button class=\"colab-df-convert\" onclick=\"convertToInteractive('df-2ed56f40-c04c-4238-bba8-d0394b52a081')\"\n",
              "              title=\"Convert this dataframe to an interactive table.\"\n",
              "              style=\"display:none;\">\n",
              "        \n",
              "  <svg xmlns=\"http://www.w3.org/2000/svg\" height=\"24px\"viewBox=\"0 0 24 24\"\n",
              "       width=\"24px\">\n",
              "    <path d=\"M0 0h24v24H0V0z\" fill=\"none\"/>\n",
              "    <path d=\"M18.56 5.44l.94 2.06.94-2.06 2.06-.94-2.06-.94-.94-2.06-.94 2.06-2.06.94zm-11 1L8.5 8.5l.94-2.06 2.06-.94-2.06-.94L8.5 2.5l-.94 2.06-2.06.94zm10 10l.94 2.06.94-2.06 2.06-.94-2.06-.94-.94-2.06-.94 2.06-2.06.94z\"/><path d=\"M17.41 7.96l-1.37-1.37c-.4-.4-.92-.59-1.43-.59-.52 0-1.04.2-1.43.59L10.3 9.45l-7.72 7.72c-.78.78-.78 2.05 0 2.83L4 21.41c.39.39.9.59 1.41.59.51 0 1.02-.2 1.41-.59l7.78-7.78 2.81-2.81c.8-.78.8-2.07 0-2.86zM5.41 20L4 18.59l7.72-7.72 1.47 1.35L5.41 20z\"/>\n",
              "  </svg>\n",
              "      </button>\n",
              "      \n",
              "  <style>\n",
              "    .colab-df-container {\n",
              "      display:flex;\n",
              "      flex-wrap:wrap;\n",
              "      gap: 12px;\n",
              "    }\n",
              "\n",
              "    .colab-df-convert {\n",
              "      background-color: #E8F0FE;\n",
              "      border: none;\n",
              "      border-radius: 50%;\n",
              "      cursor: pointer;\n",
              "      display: none;\n",
              "      fill: #1967D2;\n",
              "      height: 32px;\n",
              "      padding: 0 0 0 0;\n",
              "      width: 32px;\n",
              "    }\n",
              "\n",
              "    .colab-df-convert:hover {\n",
              "      background-color: #E2EBFA;\n",
              "      box-shadow: 0px 1px 2px rgba(60, 64, 67, 0.3), 0px 1px 3px 1px rgba(60, 64, 67, 0.15);\n",
              "      fill: #174EA6;\n",
              "    }\n",
              "\n",
              "    [theme=dark] .colab-df-convert {\n",
              "      background-color: #3B4455;\n",
              "      fill: #D2E3FC;\n",
              "    }\n",
              "\n",
              "    [theme=dark] .colab-df-convert:hover {\n",
              "      background-color: #434B5C;\n",
              "      box-shadow: 0px 1px 3px 1px rgba(0, 0, 0, 0.15);\n",
              "      filter: drop-shadow(0px 1px 2px rgba(0, 0, 0, 0.3));\n",
              "      fill: #FFFFFF;\n",
              "    }\n",
              "  </style>\n",
              "\n",
              "      <script>\n",
              "        const buttonEl =\n",
              "          document.querySelector('#df-2ed56f40-c04c-4238-bba8-d0394b52a081 button.colab-df-convert');\n",
              "        buttonEl.style.display =\n",
              "          google.colab.kernel.accessAllowed ? 'block' : 'none';\n",
              "\n",
              "        async function convertToInteractive(key) {\n",
              "          const element = document.querySelector('#df-2ed56f40-c04c-4238-bba8-d0394b52a081');\n",
              "          const dataTable =\n",
              "            await google.colab.kernel.invokeFunction('convertToInteractive',\n",
              "                                                     [key], {});\n",
              "          if (!dataTable) return;\n",
              "\n",
              "          const docLinkHtml = 'Like what you see? Visit the ' +\n",
              "            '<a target=\"_blank\" href=https://colab.research.google.com/notebooks/data_table.ipynb>data table notebook</a>'\n",
              "            + ' to learn more about interactive tables.';\n",
              "          element.innerHTML = '';\n",
              "          dataTable['output_type'] = 'display_data';\n",
              "          await google.colab.output.renderOutput(dataTable, element);\n",
              "          const docLink = document.createElement('div');\n",
              "          docLink.innerHTML = docLinkHtml;\n",
              "          element.appendChild(docLink);\n",
              "        }\n",
              "      </script>\n",
              "    </div>\n",
              "  </div>\n",
              "  "
            ],
            "text/plain": [
              "                   BLK          FB\n",
              "Date                              \n",
              "2021-12-23  913.919983  335.239990\n",
              "2021-12-27  922.570007  346.179993\n",
              "2021-12-28  921.820007  346.220001\n",
              "2021-12-29  909.719971  342.940002\n",
              "2021-12-30  913.760010  344.359985"
            ]
          },
          "metadata": {},
          "execution_count": 27
        }
      ]
    },
    {
      "cell_type": "markdown",
      "source": [
        "### Calculate percentage change in Stock Prices"
      ],
      "metadata": {
        "id": "T03ZIR3kY_Im"
      }
    },
    {
      "cell_type": "markdown",
      "source": [
        "Next, we calculate the percentage change in stock prices everyday. You will notice that that we take the log of percentage change.\n",
        "\n",
        "But take log?\n",
        "\n",
        "The reason for this is that log of the returns is time additive."
      ],
      "metadata": {
        "id": "WVuU2R_hY_Qo"
      }
    },
    {
      "cell_type": "markdown",
      "source": [
        "That is,\n",
        "If \n",
        "\n",
        "- $r_{13}$ is the returns for time between $t_{3}$ and $t_{1}$.\n",
        "- $r_{12}$ is the returns between $t_{1}$ and $t_{2}$ and\n",
        "- $r_{23}$ is the returns between $t_{2}$ and $t_{3}$.\n",
        "\n",
        "Then, $log(r_{13}) = log(r_{12}) + log(r_{23})$"
      ],
      "metadata": {
        "id": "pEQrDZuhY_aO"
      }
    },
    {
      "cell_type": "markdown",
      "source": [
        "For example:"
      ],
      "metadata": {
        "id": "_82eWSjSY_h1"
      }
    },
    {
      "cell_type": "code",
      "source": [
        "p1 = 100 \n",
        "p2 = 110 \n",
        "p3 = 120"
      ],
      "metadata": {
        "id": "h9nBPJVVad1f"
      },
      "execution_count": 28,
      "outputs": []
    },
    {
      "cell_type": "markdown",
      "source": [
        "Then:"
      ],
      "metadata": {
        "id": "HkOlLXKIad9P"
      }
    },
    {
      "cell_type": "code",
      "source": [
        "print(\"log(r12) = \" + str(np.log(p2/p1) * 100) + \"%\")\n",
        "print(\"log(r23) = \" + str(np.log(p3/p2) * 100) + \"%\")\n",
        "print(\"log(r13) = \" + str((np.log(p2/p1) +np.log(p3/p2))* 100) + \"%\")\n",
        "print(\"log(120/100) = \" + str(np.log(p3/p1) * 100) + \"%\")"
      ],
      "metadata": {
        "colab": {
          "base_uri": "https://localhost:8080/"
        },
        "id": "mBlHeiiraeFM",
        "outputId": "fb179dde-1992-4c1b-a6c7-39b343f45900"
      },
      "execution_count": 29,
      "outputs": [
        {
          "output_type": "stream",
          "name": "stdout",
          "text": [
            "log(r12) = 9.531017980432493%\n",
            "log(r23) = 8.70113769896297%\n",
            "log(r13) = 18.23215567939546%\n",
            "log(120/100) = 18.232155679395458%\n"
          ]
        }
      ]
    },
    {
      "cell_type": "markdown",
      "source": [
        "This means a log change of +0.1 today and then -0.1 tomorrow will give you the same value of stock as yesterday. This is not true if you simply compute percentage change.\n",
        "\n",
        "It is common practice in portfolio optimization to take log of returns for calculations of covariance and correlation."
      ],
      "metadata": {
        "id": "Txv7WmcCazxH"
      }
    },
    {
      "cell_type": "code",
      "source": [
        "# Log of percentage change\n",
        "blk = test['BLK'].pct_change().apply(lambda x: np.log(1+x))\n",
        "blk.head()"
      ],
      "metadata": {
        "colab": {
          "base_uri": "https://localhost:8080/"
        },
        "id": "b2X8JJWeaz5R",
        "outputId": "2ea1f387-cbb2-4c62-d60b-1f64ffbb022c"
      },
      "execution_count": 30,
      "outputs": [
        {
          "output_type": "execute_result",
          "data": {
            "text/plain": [
              "Date\n",
              "2018-01-02         NaN\n",
              "2018-01-03    0.010496\n",
              "2018-01-04    0.013115\n",
              "2018-01-05    0.008484\n",
              "2018-01-08    0.007431\n",
              "Name: BLK, dtype: float64"
            ]
          },
          "metadata": {},
          "execution_count": 30
        }
      ]
    },
    {
      "cell_type": "markdown",
      "source": [
        "### Variance"
      ],
      "metadata": {
        "id": "mrKIx0hYa0Cy"
      }
    },
    {
      "cell_type": "markdown",
      "source": [
        "The variance in prices of stocks of Tesla are an important indicator of how volatile this investment will be (how returns can fluctuate).\n",
        "\n",
        "It can be calculated for each company by using built in .var() function. Under the hood, the formula implemented by this function is given by:\n",
        "\n",
        "$$s^{2}= \\frac{\\Sigma^{N}_{i=1}(x_{i}-\\bar{x})^{2}}{(N-1)}$$"
      ],
      "metadata": {
        "id": "jUZ6D_owhsH7"
      }
    },
    {
      "cell_type": "code",
      "source": [
        "# Variance\n",
        "var_blk = blk.var()\n",
        "var_blk"
      ],
      "metadata": {
        "colab": {
          "base_uri": "https://localhost:8080/"
        },
        "id": "MetOwP5KhsO2",
        "outputId": "afc6d65b-0a06-4367-9c1b-e68198e56c3e"
      },
      "execution_count": 31,
      "outputs": [
        {
          "output_type": "execute_result",
          "data": {
            "text/plain": [
              "0.00039176517361827094"
            ]
          },
          "metadata": {},
          "execution_count": 31
        }
      ]
    },
    {
      "cell_type": "markdown",
      "source": [
        "We do the same for Facebook:"
      ],
      "metadata": {
        "id": "DvVYo9WvhsT4"
      }
    },
    {
      "cell_type": "code",
      "source": [
        "fb = test['FB'].pct_change().apply(lambda x: np.log(1+x))\n",
        "fb.head()"
      ],
      "metadata": {
        "colab": {
          "base_uri": "https://localhost:8080/"
        },
        "id": "3dF656kOiS4n",
        "outputId": "91fae762-bc61-4d0f-b31e-154a0db04c37"
      },
      "execution_count": 33,
      "outputs": [
        {
          "output_type": "execute_result",
          "data": {
            "text/plain": [
              "Date\n",
              "2018-01-02         NaN\n",
              "2018-01-03    0.017756\n",
              "2018-01-04   -0.001843\n",
              "2018-01-05    0.013579\n",
              "2018-01-08    0.007624\n",
              "Name: FB, dtype: float64"
            ]
          },
          "metadata": {},
          "execution_count": 33
        }
      ]
    },
    {
      "cell_type": "code",
      "source": [
        "var_fb = fb.var()\n",
        "var_fb"
      ],
      "metadata": {
        "colab": {
          "base_uri": "https://localhost:8080/"
        },
        "id": "Zun7AOCGiTDA",
        "outputId": "2946593f-254f-45e9-b725-0381da6a4d01"
      },
      "execution_count": 34,
      "outputs": [
        {
          "output_type": "execute_result",
          "data": {
            "text/plain": [
              "0.0005250622680934013"
            ]
          },
          "metadata": {},
          "execution_count": 34
        }
      ]
    },
    {
      "cell_type": "markdown",
      "source": [
        "### Volatility"
      ],
      "metadata": {
        "id": "TY0eSjPviTI-"
      }
    },
    {
      "cell_type": "markdown",
      "source": [
        "Volatility is measured as the standard deviation of a company’s stock.\n",
        "\n",
        "If you carefully look at the formula for standard deviation, you will understand that it is just the square root of variance:\n",
        "\n",
        "$$s= \\sqrt{\\frac{\\Sigma^{N}_{i=1}(x_{i}-\\bar{x})^{2}}{(N-1)}}$$"
      ],
      "metadata": {
        "id": "B-2kL6LNY_p5"
      }
    },
    {
      "cell_type": "markdown",
      "source": [
        "But volatility for the annual standard deviation. What we get from square root of variance is the daily standard deviation. To convert it to annual standard deviation we multiply the variance by 250.\n",
        "\n",
        "250 is used because there are 250 trading days in a year."
      ],
      "metadata": {
        "id": "BrlB479_ioJm"
      }
    },
    {
      "cell_type": "code",
      "source": [
        "# Volatility\n",
        "blk_vol = np.sqrt(var_blk * 250)\n",
        "fb_vol = np.sqrt(var_fb * 250)\n",
        "blk_vol, fb_vol"
      ],
      "metadata": {
        "colab": {
          "base_uri": "https://localhost:8080/"
        },
        "id": "03gVtYjUioUH",
        "outputId": "7d35055c-6f09-4d18-9e17-cf9b8ca33150"
      },
      "execution_count": 35,
      "outputs": [
        {
          "output_type": "execute_result",
          "data": {
            "text/plain": [
              "(0.3129557371331731, 0.36230590255107675)"
            ]
          },
          "metadata": {},
          "execution_count": 35
        }
      ]
    },
    {
      "cell_type": "markdown",
      "source": [
        "We can plot the volatility for a better visualization:"
      ],
      "metadata": {
        "id": "ft02LcYFiocM"
      }
    },
    {
      "cell_type": "code",
      "source": [
        "# Volatility of both stocks\n",
        "test.pct_change().apply(lambda x: np.log(1+x)).std().apply(lambda x: x*np.sqrt(250)).plot(kind='bar')"
      ],
      "metadata": {
        "colab": {
          "base_uri": "https://localhost:8080/",
          "height": 292
        },
        "id": "_StRIa9JioiM",
        "outputId": "9070ecb5-0f85-4dc1-af1a-9cd325b9d855"
      },
      "execution_count": 36,
      "outputs": [
        {
          "output_type": "execute_result",
          "data": {
            "text/plain": [
              "<matplotlib.axes._subplots.AxesSubplot at 0x7efed2df52d0>"
            ]
          },
          "metadata": {},
          "execution_count": 36
        },
        {
          "output_type": "display_data",
          "data": {
            "image/png": "[encoded data removed]",
            "text/plain": [
              "<Figure size 432x288 with 1 Axes>"
            ]
          },
          "metadata": {
            "needs_background": "light"
          }
        }
      ]
    },
    {
      "cell_type": "markdown",
      "source": [
        "### Covariance"
      ],
      "metadata": {
        "id": "K0i-AdGnioo8"
      }
    },
    {
      "cell_type": "markdown",
      "source": [
        "**Covariance measures the directional relationship between the returns on two assets**.\n",
        "\n",
        "A positive covariance means that returns of the two assets move together while a negative covariance means they move inversely. Risk and volatility can be reduced in a portfolio by pairing assets that have a negative covariance.\n",
        "\n",
        "We can calculate the covariance of BlackRock and Facebook by using the .cov() function:"
      ],
      "metadata": {
        "id": "FaIdDJy5jPR4"
      }
    },
    {
      "cell_type": "code",
      "source": [
        "# Log of Percentage change\n",
        "test1 = test.pct_change().apply(lambda x: np.log(1+x))\n",
        "test1.head()"
      ],
      "metadata": {
        "colab": {
          "base_uri": "https://localhost:8080/",
          "height": 237
        },
        "id": "14ADwkQljPeq",
        "outputId": "adf3a6f2-d2e7-42a9-d649-bb532a4b180f"
      },
      "execution_count": 37,
      "outputs": [
        {
          "output_type": "execute_result",
          "data": {
            "text/html": [
              "\n",
              "  <div id=\"df-54189f0f-33ac-4fce-8919-93edbd86ef6d\">\n",
              "    <div class=\"colab-df-container\">\n",
              "      <div>\n",
              "<style scoped>\n",
              "    .dataframe tbody tr th:only-of-type {\n",
              "        vertical-align: middle;\n",
              "    }\n",
              "\n",
              "    .dataframe tbody tr th {\n",
              "        vertical-align: top;\n",
              "    }\n",
              "\n",
              "    .dataframe thead th {\n",
              "        text-align: right;\n",
              "    }\n",
              "</style>\n",
              "<table border=\"1\" class=\"dataframe\">\n",
              "  <thead>\n",
              "    <tr style=\"text-align: right;\">\n",
              "      <th></th>\n",
              "      <th>BLK</th>\n",
              "      <th>FB</th>\n",
              "    </tr>\n",
              "    <tr>\n",
              "      <th>Date</th>\n",
              "      <th></th>\n",
              "      <th></th>\n",
              "    </tr>\n",
              "  </thead>\n",
              "  <tbody>\n",
              "    <tr>\n",
              "      <th>2018-01-02</th>\n",
              "      <td>NaN</td>\n",
              "      <td>NaN</td>\n",
              "    </tr>\n",
              "    <tr>\n",
              "      <th>2018-01-03</th>\n",
              "      <td>0.010496</td>\n",
              "      <td>0.017756</td>\n",
              "    </tr>\n",
              "    <tr>\n",
              "      <th>2018-01-04</th>\n",
              "      <td>0.013115</td>\n",
              "      <td>-0.001843</td>\n",
              "    </tr>\n",
              "    <tr>\n",
              "      <th>2018-01-05</th>\n",
              "      <td>0.008484</td>\n",
              "      <td>0.013579</td>\n",
              "    </tr>\n",
              "    <tr>\n",
              "      <th>2018-01-08</th>\n",
              "      <td>0.007431</td>\n",
              "      <td>0.007624</td>\n",
              "    </tr>\n",
              "  </tbody>\n",
              "</table>\n",
              "</div>\n",
              "      <button class=\"colab-df-convert\" onclick=\"convertToInteractive('df-54189f0f-33ac-4fce-8919-93edbd86ef6d')\"\n",
              "              title=\"Convert this dataframe to an interactive table.\"\n",
              "              style=\"display:none;\">\n",
              "        \n",
              "  <svg xmlns=\"http://www.w3.org/2000/svg\" height=\"24px\"viewBox=\"0 0 24 24\"\n",
              "       width=\"24px\">\n",
              "    <path d=\"M0 0h24v24H0V0z\" fill=\"none\"/>\n",
              "    <path d=\"M18.56 5.44l.94 2.06.94-2.06 2.06-.94-2.06-.94-.94-2.06-.94 2.06-2.06.94zm-11 1L8.5 8.5l.94-2.06 2.06-.94-2.06-.94L8.5 2.5l-.94 2.06-2.06.94zm10 10l.94 2.06.94-2.06 2.06-.94-2.06-.94-.94-2.06-.94 2.06-2.06.94z\"/><path d=\"M17.41 7.96l-1.37-1.37c-.4-.4-.92-.59-1.43-.59-.52 0-1.04.2-1.43.59L10.3 9.45l-7.72 7.72c-.78.78-.78 2.05 0 2.83L4 21.41c.39.39.9.59 1.41.59.51 0 1.02-.2 1.41-.59l7.78-7.78 2.81-2.81c.8-.78.8-2.07 0-2.86zM5.41 20L4 18.59l7.72-7.72 1.47 1.35L5.41 20z\"/>\n",
              "  </svg>\n",
              "      </button>\n",
              "      \n",
              "  <style>\n",
              "    .colab-df-container {\n",
              "      display:flex;\n",
              "      flex-wrap:wrap;\n",
              "      gap: 12px;\n",
              "    }\n",
              "\n",
              "    .colab-df-convert {\n",
              "      background-color: #E8F0FE;\n",
              "      border: none;\n",
              "      border-radius: 50%;\n",
              "      cursor: pointer;\n",
              "      display: none;\n",
              "      fill: #1967D2;\n",
              "      height: 32px;\n",
              "      padding: 0 0 0 0;\n",
              "      width: 32px;\n",
              "    }\n",
              "\n",
              "    .colab-df-convert:hover {\n",
              "      background-color: #E2EBFA;\n",
              "      box-shadow: 0px 1px 2px rgba(60, 64, 67, 0.3), 0px 1px 3px 1px rgba(60, 64, 67, 0.15);\n",
              "      fill: #174EA6;\n",
              "    }\n",
              "\n",
              "    [theme=dark] .colab-df-convert {\n",
              "      background-color: #3B4455;\n",
              "      fill: #D2E3FC;\n",
              "    }\n",
              "\n",
              "    [theme=dark] .colab-df-convert:hover {\n",
              "      background-color: #434B5C;\n",
              "      box-shadow: 0px 1px 3px 1px rgba(0, 0, 0, 0.15);\n",
              "      filter: drop-shadow(0px 1px 2px rgba(0, 0, 0, 0.3));\n",
              "      fill: #FFFFFF;\n",
              "    }\n",
              "  </style>\n",
              "\n",
              "      <script>\n",
              "        const buttonEl =\n",
              "          document.querySelector('#df-54189f0f-33ac-4fce-8919-93edbd86ef6d button.colab-df-convert');\n",
              "        buttonEl.style.display =\n",
              "          google.colab.kernel.accessAllowed ? 'block' : 'none';\n",
              "\n",
              "        async function convertToInteractive(key) {\n",
              "          const element = document.querySelector('#df-54189f0f-33ac-4fce-8919-93edbd86ef6d');\n",
              "          const dataTable =\n",
              "            await google.colab.kernel.invokeFunction('convertToInteractive',\n",
              "                                                     [key], {});\n",
              "          if (!dataTable) return;\n",
              "\n",
              "          const docLinkHtml = 'Like what you see? Visit the ' +\n",
              "            '<a target=\"_blank\" href=https://colab.research.google.com/notebooks/data_table.ipynb>data table notebook</a>'\n",
              "            + ' to learn more about interactive tables.';\n",
              "          element.innerHTML = '';\n",
              "          dataTable['output_type'] = 'display_data';\n",
              "          await google.colab.output.renderOutput(dataTable, element);\n",
              "          const docLink = document.createElement('div');\n",
              "          docLink.innerHTML = docLinkHtml;\n",
              "          element.appendChild(docLink);\n",
              "        }\n",
              "      </script>\n",
              "    </div>\n",
              "  </div>\n",
              "  "
            ],
            "text/plain": [
              "                 BLK        FB\n",
              "Date                          \n",
              "2018-01-02       NaN       NaN\n",
              "2018-01-03  0.010496  0.017756\n",
              "2018-01-04  0.013115 -0.001843\n",
              "2018-01-05  0.008484  0.013579\n",
              "2018-01-08  0.007431  0.007624"
            ]
          },
          "metadata": {},
          "execution_count": 37
        }
      ]
    },
    {
      "cell_type": "code",
      "source": [
        "# Covariance\n",
        "test1['BLK'].cov(test1['FB'])"
      ],
      "metadata": {
        "colab": {
          "base_uri": "https://localhost:8080/"
        },
        "id": "7BNyeFsRjPre",
        "outputId": "08d6b66e-ddbe-43b3-ab0b-621a34aec3c4"
      },
      "execution_count": 38,
      "outputs": [
        {
          "output_type": "execute_result",
          "data": {
            "text/plain": [
              "0.00021811109939724112"
            ]
          },
          "metadata": {},
          "execution_count": 38
        }
      ]
    },
    {
      "cell_type": "markdown",
      "source": [
        "We can appreciate a very small positive covariance between BlackRock and Facebook"
      ],
      "metadata": {
        "id": "oF2B7lBdjPzA"
      }
    },
    {
      "cell_type": "markdown",
      "source": [
        "### Correlation"
      ],
      "metadata": {
        "id": "cYQAcojQjm6W"
      }
    },
    {
      "cell_type": "markdown",
      "source": [
        "Correlation, in the finance and investment industries, is a statistic that measures the degree to which two securities move in relation to each other. Correlations are used in advanced portfolio management, computed as the correlation coefficient, which has a value that must fall between -1.0 and +1.0.\n",
        "\n",
        "You can think of correlation as a scaled version of covariance, where the values are restricted to lie between -1 and +1."
      ],
      "metadata": {
        "id": "ZILsLZS7jnDq"
      }
    },
    {
      "cell_type": "markdown",
      "source": [
        "A correlation of -1 means negative relation, i.e, if correlation between Asset A and Asset B is -1, if Asset A increases, Asset B decreases.\n",
        "\n",
        "A correlation of +1 means positive relation, i.e, if correlation between Asset A and Asset B is 1, if Asset A increases, Asset B increases.\n",
        "\n",
        "A correlation of 0 means no relation, i.e, if correlation between Asset A and Asset B is 0, they dont have any effect on each other.\n",
        "\n",
        "This is calculated using the .corr() function."
      ],
      "metadata": {
        "id": "iZ4_xOr6jnKT"
      }
    },
    {
      "cell_type": "code",
      "source": [
        "test1['BLK'].corr(test1['FB'])"
      ],
      "metadata": {
        "colab": {
          "base_uri": "https://localhost:8080/"
        },
        "id": "zqjSEsu6kCHN",
        "outputId": "4bba868e-d451-46c2-da6f-fb6ed38a878b"
      },
      "execution_count": 39,
      "outputs": [
        {
          "output_type": "execute_result",
          "data": {
            "text/plain": [
              "0.48090517283272444"
            ]
          },
          "metadata": {},
          "execution_count": 39
        }
      ]
    },
    {
      "cell_type": "markdown",
      "source": [
        "We can see correlation between BlackRock and Facebook is also positive and a bit high"
      ],
      "metadata": {
        "id": "Z77jC1QqkCTv"
      }
    },
    {
      "cell_type": "markdown",
      "source": [
        "### Expected Returns"
      ],
      "metadata": {
        "id": "QLeuPyhokCdx"
      }
    },
    {
      "cell_type": "markdown",
      "source": [
        "Expected returns of an asset are simply the mean of percentage change in its stock prices. So, the value of expected return we obtain here are daily expected returns.\n",
        "\n",
        "For an yearly expected return value, you will need to resample the data year-wise, as you will see further.\n",
        "\n",
        "For expected returns, you need to define weights for the assets choosen.\n",
        "\n",
        "In simpler terms, this means you need to decide what percentage of your total money to you want to hold in each company’s stock.\n",
        "\n",
        "Usually this decision is done by using the optimization techniques we will discuss later but for now we will consider random weights for BlackRock and Facebook."
      ],
      "metadata": {
        "id": "ck5pXKUykW9a"
      }
    },
    {
      "cell_type": "code",
      "source": [
        "test2 = test.pct_change().apply(lambda x: np.log(1+x))\n",
        "test2.head()"
      ],
      "metadata": {
        "colab": {
          "base_uri": "https://localhost:8080/",
          "height": 237
        },
        "id": "v85_cv20kXK7",
        "outputId": "9ca9f492-9eaa-4abb-8e8b-88bc4672feda"
      },
      "execution_count": 40,
      "outputs": [
        {
          "output_type": "execute_result",
          "data": {
            "text/html": [
              "\n",
              "  <div id=\"df-82535cdc-a480-46b2-8e05-6f1ae78687fe\">\n",
              "    <div class=\"colab-df-container\">\n",
              "      <div>\n",
              "<style scoped>\n",
              "    .dataframe tbody tr th:only-of-type {\n",
              "        vertical-align: middle;\n",
              "    }\n",
              "\n",
              "    .dataframe tbody tr th {\n",
              "        vertical-align: top;\n",
              "    }\n",
              "\n",
              "    .dataframe thead th {\n",
              "        text-align: right;\n",
              "    }\n",
              "</style>\n",
              "<table border=\"1\" class=\"dataframe\">\n",
              "  <thead>\n",
              "    <tr style=\"text-align: right;\">\n",
              "      <th></th>\n",
              "      <th>BLK</th>\n",
              "      <th>FB</th>\n",
              "    </tr>\n",
              "    <tr>\n",
              "      <th>Date</th>\n",
              "      <th></th>\n",
              "      <th></th>\n",
              "    </tr>\n",
              "  </thead>\n",
              "  <tbody>\n",
              "    <tr>\n",
              "      <th>2018-01-02</th>\n",
              "      <td>NaN</td>\n",
              "      <td>NaN</td>\n",
              "    </tr>\n",
              "    <tr>\n",
              "      <th>2018-01-03</th>\n",
              "      <td>0.010496</td>\n",
              "      <td>0.017756</td>\n",
              "    </tr>\n",
              "    <tr>\n",
              "      <th>2018-01-04</th>\n",
              "      <td>0.013115</td>\n",
              "      <td>-0.001843</td>\n",
              "    </tr>\n",
              "    <tr>\n",
              "      <th>2018-01-05</th>\n",
              "      <td>0.008484</td>\n",
              "      <td>0.013579</td>\n",
              "    </tr>\n",
              "    <tr>\n",
              "      <th>2018-01-08</th>\n",
              "      <td>0.007431</td>\n",
              "      <td>0.007624</td>\n",
              "    </tr>\n",
              "  </tbody>\n",
              "</table>\n",
              "</div>\n",
              "      <button class=\"colab-df-convert\" onclick=\"convertToInteractive('df-82535cdc-a480-46b2-8e05-6f1ae78687fe')\"\n",
              "              title=\"Convert this dataframe to an interactive table.\"\n",
              "              style=\"display:none;\">\n",
              "        \n",
              "  <svg xmlns=\"http://www.w3.org/2000/svg\" height=\"24px\"viewBox=\"0 0 24 24\"\n",
              "       width=\"24px\">\n",
              "    <path d=\"M0 0h24v24H0V0z\" fill=\"none\"/>\n",
              "    <path d=\"M18.56 5.44l.94 2.06.94-2.06 2.06-.94-2.06-.94-.94-2.06-.94 2.06-2.06.94zm-11 1L8.5 8.5l.94-2.06 2.06-.94-2.06-.94L8.5 2.5l-.94 2.06-2.06.94zm10 10l.94 2.06.94-2.06 2.06-.94-2.06-.94-.94-2.06-.94 2.06-2.06.94z\"/><path d=\"M17.41 7.96l-1.37-1.37c-.4-.4-.92-.59-1.43-.59-.52 0-1.04.2-1.43.59L10.3 9.45l-7.72 7.72c-.78.78-.78 2.05 0 2.83L4 21.41c.39.39.9.59 1.41.59.51 0 1.02-.2 1.41-.59l7.78-7.78 2.81-2.81c.8-.78.8-2.07 0-2.86zM5.41 20L4 18.59l7.72-7.72 1.47 1.35L5.41 20z\"/>\n",
              "  </svg>\n",
              "      </button>\n",
              "      \n",
              "  <style>\n",
              "    .colab-df-container {\n",
              "      display:flex;\n",
              "      flex-wrap:wrap;\n",
              "      gap: 12px;\n",
              "    }\n",
              "\n",
              "    .colab-df-convert {\n",
              "      background-color: #E8F0FE;\n",
              "      border: none;\n",
              "      border-radius: 50%;\n",
              "      cursor: pointer;\n",
              "      display: none;\n",
              "      fill: #1967D2;\n",
              "      height: 32px;\n",
              "      padding: 0 0 0 0;\n",
              "      width: 32px;\n",
              "    }\n",
              "\n",
              "    .colab-df-convert:hover {\n",
              "      background-color: #E2EBFA;\n",
              "      box-shadow: 0px 1px 2px rgba(60, 64, 67, 0.3), 0px 1px 3px 1px rgba(60, 64, 67, 0.15);\n",
              "      fill: #174EA6;\n",
              "    }\n",
              "\n",
              "    [theme=dark] .colab-df-convert {\n",
              "      background-color: #3B4455;\n",
              "      fill: #D2E3FC;\n",
              "    }\n",
              "\n",
              "    [theme=dark] .colab-df-convert:hover {\n",
              "      background-color: #434B5C;\n",
              "      box-shadow: 0px 1px 3px 1px rgba(0, 0, 0, 0.15);\n",
              "      filter: drop-shadow(0px 1px 2px rgba(0, 0, 0, 0.3));\n",
              "      fill: #FFFFFF;\n",
              "    }\n",
              "  </style>\n",
              "\n",
              "      <script>\n",
              "        const buttonEl =\n",
              "          document.querySelector('#df-82535cdc-a480-46b2-8e05-6f1ae78687fe button.colab-df-convert');\n",
              "        buttonEl.style.display =\n",
              "          google.colab.kernel.accessAllowed ? 'block' : 'none';\n",
              "\n",
              "        async function convertToInteractive(key) {\n",
              "          const element = document.querySelector('#df-82535cdc-a480-46b2-8e05-6f1ae78687fe');\n",
              "          const dataTable =\n",
              "            await google.colab.kernel.invokeFunction('convertToInteractive',\n",
              "                                                     [key], {});\n",
              "          if (!dataTable) return;\n",
              "\n",
              "          const docLinkHtml = 'Like what you see? Visit the ' +\n",
              "            '<a target=\"_blank\" href=https://colab.research.google.com/notebooks/data_table.ipynb>data table notebook</a>'\n",
              "            + ' to learn more about interactive tables.';\n",
              "          element.innerHTML = '';\n",
              "          dataTable['output_type'] = 'display_data';\n",
              "          await google.colab.output.renderOutput(dataTable, element);\n",
              "          const docLink = document.createElement('div');\n",
              "          docLink.innerHTML = docLinkHtml;\n",
              "          element.appendChild(docLink);\n",
              "        }\n",
              "      </script>\n",
              "    </div>\n",
              "  </div>\n",
              "  "
            ],
            "text/plain": [
              "                 BLK        FB\n",
              "Date                          \n",
              "2018-01-02       NaN       NaN\n",
              "2018-01-03  0.010496  0.017756\n",
              "2018-01-04  0.013115 -0.001843\n",
              "2018-01-05  0.008484  0.013579\n",
              "2018-01-08  0.007431  0.007624"
            ]
          },
          "metadata": {},
          "execution_count": 40
        }
      ]
    },
    {
      "cell_type": "markdown",
      "source": [
        "#### Weights"
      ],
      "metadata": {
        "id": "2LK55-_dkXW-"
      }
    },
    {
      "cell_type": "markdown",
      "source": [
        "Let’s define an array of random weights for the purpose of calculation. These weights will represent the percentage allocation of investments between these two stocks. They must add up to 1.\n",
        "\n",
        "So, the problem of portfolio optimization is nothing but to find the optimal values of weights that maximizes expected returns while minimizing the risk (standard deviation)"
      ],
      "metadata": {
        "id": "T1EM1fJwkXkS"
      }
    },
    {
      "cell_type": "code",
      "source": [
        "# Define weights for allocation\n",
        "w = [0.2, 0.8]\n",
        "e_r_ind = test2.mean()\n",
        "e_r_ind"
      ],
      "metadata": {
        "colab": {
          "base_uri": "https://localhost:8080/"
        },
        "id": "sVSTZkaHWou-",
        "outputId": "a0ad7e85-6bfa-44a2-f49e-af74d364b55a"
      },
      "execution_count": 41,
      "outputs": [
        {
          "output_type": "execute_result",
          "data": {
            "text/plain": [
              "BLK    0.000681\n",
              "FB     0.000637\n",
              "dtype: float64"
            ]
          },
          "metadata": {},
          "execution_count": 41
        }
      ]
    },
    {
      "cell_type": "markdown",
      "source": [
        "The total expected return for a portfolio is given by:\n",
        "\n",
        "$$E[R_{p}] = w_{1}E[R_{1}] + w_{2}E[R_{2}] + ... + w_{n}E[R_{n}]$$"
      ],
      "metadata": {
        "id": "zQXagwrRkwTy"
      }
    },
    {
      "cell_type": "markdown",
      "source": [
        "Thus, e_r, or total expected return can be calculated as:"
      ],
      "metadata": {
        "id": "nZFO4Mn7kwg2"
      }
    },
    {
      "cell_type": "code",
      "source": [
        "e_r = (e_r_ind * w).sum()\n",
        "e_r"
      ],
      "metadata": {
        "colab": {
          "base_uri": "https://localhost:8080/"
        },
        "id": "R2XqSb5lkwto",
        "outputId": "e0cc8a67-0199-431c-f6f0-b76eae9d95d3"
      },
      "execution_count": 42,
      "outputs": [
        {
          "output_type": "execute_result",
          "data": {
            "text/plain": [
              "0.0006458012028127541"
            ]
          },
          "metadata": {},
          "execution_count": 42
        }
      ]
    },
    {
      "cell_type": "markdown",
      "source": [
        "### Building an Optimal Risk Portfolio"
      ],
      "metadata": {
        "id": "75tdcxNxlMw0"
      }
    },
    {
      "cell_type": "markdown",
      "source": [
        "Now that you have gone through the building blocks of portfolio optimization, it is time to create an optimal portfolio using the same concepts.\n",
        "\n",
        "We will be using stocks from 4 companies, namely, Apple, BlackRock, Google and Amazon for a period of 5 years."
      ],
      "metadata": {
        "id": "kfqxQAfElM-R"
      }
    },
    {
      "cell_type": "markdown",
      "source": [
        "You will learn to calculate the weights of assets for each one. Then, we will calculate the expected returns, minimum variance portfolio, optimal risky portfolio and efficient frontier. You will also learn a new term called Sharpe Ratio."
      ],
      "metadata": {
        "id": "wlLQ6_8Fkw7k"
      }
    },
    {
      "cell_type": "code",
      "source": [
        "df = yf.download('AAPL BLK GOOG AMZN', start='2017-01-01', end='2021-12-31')\n",
        "df.head()"
      ],
      "metadata": {
        "colab": {
          "base_uri": "https://localhost:8080/",
          "height": 437
        },
        "id": "YQJN2lijlihc",
        "outputId": "92d3f570-c475-4018-9d9f-bcf0535b1f74"
      },
      "execution_count": 43,
      "outputs": [
        {
          "output_type": "stream",
          "name": "stdout",
          "text": [
            "[*********************100%***********************]  4 of 4 completed\n"
          ]
        },
        {
          "output_type": "execute_result",
          "data": {
            "text/html": [
              "\n",
              "  <div id=\"df-5a2e8600-3cda-4280-8916-2f9652ab9ed8\">\n",
              "    <div class=\"colab-df-container\">\n",
              "      <div>\n",
              "<style scoped>\n",
              "    .dataframe tbody tr th:only-of-type {\n",
              "        vertical-align: middle;\n",
              "    }\n",
              "\n",
              "    .dataframe tbody tr th {\n",
              "        vertical-align: top;\n",
              "    }\n",
              "\n",
              "    .dataframe thead tr th {\n",
              "        text-align: left;\n",
              "    }\n",
              "\n",
              "    .dataframe thead tr:last-of-type th {\n",
              "        text-align: right;\n",
              "    }\n",
              "</style>\n",
              "<table border=\"1\" class=\"dataframe\">\n",
              "  <thead>\n",
              "    <tr>\n",
              "      <th></th>\n",
              "      <th colspan=\"4\" halign=\"left\">Adj Close</th>\n",
              "      <th colspan=\"4\" halign=\"left\">Close</th>\n",
              "      <th colspan=\"4\" halign=\"left\">High</th>\n",
              "      <th colspan=\"4\" halign=\"left\">Low</th>\n",
              "      <th colspan=\"4\" halign=\"left\">Open</th>\n",
              "      <th colspan=\"4\" halign=\"left\">Volume</th>\n",
              "    </tr>\n",
              "    <tr>\n",
              "      <th></th>\n",
              "      <th>AAPL</th>\n",
              "      <th>AMZN</th>\n",
              "      <th>BLK</th>\n",
              "      <th>GOOG</th>\n",
              "      <th>AAPL</th>\n",
              "      <th>AMZN</th>\n",
              "      <th>BLK</th>\n",
              "      <th>GOOG</th>\n",
              "      <th>AAPL</th>\n",
              "      <th>AMZN</th>\n",
              "      <th>BLK</th>\n",
              "      <th>GOOG</th>\n",
              "      <th>AAPL</th>\n",
              "      <th>AMZN</th>\n",
              "      <th>BLK</th>\n",
              "      <th>GOOG</th>\n",
              "      <th>AAPL</th>\n",
              "      <th>AMZN</th>\n",
              "      <th>BLK</th>\n",
              "      <th>GOOG</th>\n",
              "      <th>AAPL</th>\n",
              "      <th>AMZN</th>\n",
              "      <th>BLK</th>\n",
              "      <th>GOOG</th>\n",
              "    </tr>\n",
              "    <tr>\n",
              "      <th>Date</th>\n",
              "      <th></th>\n",
              "      <th></th>\n",
              "      <th></th>\n",
              "      <th></th>\n",
              "      <th></th>\n",
              "      <th></th>\n",
              "      <th></th>\n",
              "      <th></th>\n",
              "      <th></th>\n",
              "      <th></th>\n",
              "      <th></th>\n",
              "      <th></th>\n",
              "      <th></th>\n",
              "      <th></th>\n",
              "      <th></th>\n",
              "      <th></th>\n",
              "      <th></th>\n",
              "      <th></th>\n",
              "      <th></th>\n",
              "      <th></th>\n",
              "      <th></th>\n",
              "      <th></th>\n",
              "      <th></th>\n",
              "      <th></th>\n",
              "    </tr>\n",
              "  </thead>\n",
              "  <tbody>\n",
              "    <tr>\n",
              "      <th>2017-01-03</th>\n",
              "      <td>27.297691</td>\n",
              "      <td>753.669983</td>\n",
              "      <td>341.648804</td>\n",
              "      <td>786.140015</td>\n",
              "      <td>29.037500</td>\n",
              "      <td>753.669983</td>\n",
              "      <td>386.429993</td>\n",
              "      <td>786.140015</td>\n",
              "      <td>29.082500</td>\n",
              "      <td>758.760010</td>\n",
              "      <td>387.950012</td>\n",
              "      <td>789.630005</td>\n",
              "      <td>28.690001</td>\n",
              "      <td>747.700012</td>\n",
              "      <td>382.279999</td>\n",
              "      <td>775.799988</td>\n",
              "      <td>28.950001</td>\n",
              "      <td>757.919983</td>\n",
              "      <td>384.619995</td>\n",
              "      <td>778.809998</td>\n",
              "      <td>115127600</td>\n",
              "      <td>3521100</td>\n",
              "      <td>743900</td>\n",
              "      <td>1657300</td>\n",
              "    </tr>\n",
              "    <tr>\n",
              "      <th>2017-01-04</th>\n",
              "      <td>27.267132</td>\n",
              "      <td>757.179993</td>\n",
              "      <td>341.852203</td>\n",
              "      <td>786.900024</td>\n",
              "      <td>29.004999</td>\n",
              "      <td>757.179993</td>\n",
              "      <td>386.660004</td>\n",
              "      <td>786.900024</td>\n",
              "      <td>29.127501</td>\n",
              "      <td>759.679993</td>\n",
              "      <td>386.970001</td>\n",
              "      <td>791.340027</td>\n",
              "      <td>28.937500</td>\n",
              "      <td>754.200012</td>\n",
              "      <td>383.160004</td>\n",
              "      <td>783.159973</td>\n",
              "      <td>28.962500</td>\n",
              "      <td>758.390015</td>\n",
              "      <td>384.649994</td>\n",
              "      <td>788.359985</td>\n",
              "      <td>84472400</td>\n",
              "      <td>2510500</td>\n",
              "      <td>680800</td>\n",
              "      <td>1073000</td>\n",
              "    </tr>\n",
              "    <tr>\n",
              "      <th>2017-01-05</th>\n",
              "      <td>27.405802</td>\n",
              "      <td>780.450012</td>\n",
              "      <td>338.209686</td>\n",
              "      <td>794.020020</td>\n",
              "      <td>29.152500</td>\n",
              "      <td>780.450012</td>\n",
              "      <td>382.540009</td>\n",
              "      <td>794.020020</td>\n",
              "      <td>29.215000</td>\n",
              "      <td>782.400024</td>\n",
              "      <td>386.700012</td>\n",
              "      <td>794.479980</td>\n",
              "      <td>28.952499</td>\n",
              "      <td>760.260010</td>\n",
              "      <td>380.079987</td>\n",
              "      <td>785.020020</td>\n",
              "      <td>28.980000</td>\n",
              "      <td>761.549988</td>\n",
              "      <td>384.980011</td>\n",
              "      <td>786.080017</td>\n",
              "      <td>88774400</td>\n",
              "      <td>5830100</td>\n",
              "      <td>468400</td>\n",
              "      <td>1335200</td>\n",
              "    </tr>\n",
              "    <tr>\n",
              "      <th>2017-01-06</th>\n",
              "      <td>27.711330</td>\n",
              "      <td>795.989990</td>\n",
              "      <td>339.765747</td>\n",
              "      <td>806.150024</td>\n",
              "      <td>29.477501</td>\n",
              "      <td>795.989990</td>\n",
              "      <td>384.299988</td>\n",
              "      <td>806.150024</td>\n",
              "      <td>29.540001</td>\n",
              "      <td>799.440002</td>\n",
              "      <td>385.470001</td>\n",
              "      <td>807.900024</td>\n",
              "      <td>29.117500</td>\n",
              "      <td>778.479980</td>\n",
              "      <td>381.429993</td>\n",
              "      <td>792.203979</td>\n",
              "      <td>29.195000</td>\n",
              "      <td>782.359985</td>\n",
              "      <td>383.570007</td>\n",
              "      <td>795.260010</td>\n",
              "      <td>127007600</td>\n",
              "      <td>5986200</td>\n",
              "      <td>453400</td>\n",
              "      <td>1640200</td>\n",
              "    </tr>\n",
              "    <tr>\n",
              "      <th>2017-01-09</th>\n",
              "      <td>27.965149</td>\n",
              "      <td>796.919983</td>\n",
              "      <td>336.335327</td>\n",
              "      <td>806.650024</td>\n",
              "      <td>29.747499</td>\n",
              "      <td>796.919983</td>\n",
              "      <td>380.420013</td>\n",
              "      <td>806.650024</td>\n",
              "      <td>29.857500</td>\n",
              "      <td>801.770020</td>\n",
              "      <td>385.429993</td>\n",
              "      <td>809.966003</td>\n",
              "      <td>29.485001</td>\n",
              "      <td>791.770020</td>\n",
              "      <td>380.010010</td>\n",
              "      <td>802.830017</td>\n",
              "      <td>29.487499</td>\n",
              "      <td>798.000000</td>\n",
              "      <td>384.350006</td>\n",
              "      <td>806.400024</td>\n",
              "      <td>134247600</td>\n",
              "      <td>3446100</td>\n",
              "      <td>505300</td>\n",
              "      <td>1274600</td>\n",
              "    </tr>\n",
              "  </tbody>\n",
              "</table>\n",
              "</div>\n",
              "      <button class=\"colab-df-convert\" onclick=\"convertToInteractive('df-5a2e8600-3cda-4280-8916-2f9652ab9ed8')\"\n",
              "              title=\"Convert this dataframe to an interactive table.\"\n",
              "              style=\"display:none;\">\n",
              "        \n",
              "  <svg xmlns=\"http://www.w3.org/2000/svg\" height=\"24px\"viewBox=\"0 0 24 24\"\n",
              "       width=\"24px\">\n",
              "    <path d=\"M0 0h24v24H0V0z\" fill=\"none\"/>\n",
              "    <path d=\"M18.56 5.44l.94 2.06.94-2.06 2.06-.94-2.06-.94-.94-2.06-.94 2.06-2.06.94zm-11 1L8.5 8.5l.94-2.06 2.06-.94-2.06-.94L8.5 2.5l-.94 2.06-2.06.94zm10 10l.94 2.06.94-2.06 2.06-.94-2.06-.94-.94-2.06-.94 2.06-2.06.94z\"/><path d=\"M17.41 7.96l-1.37-1.37c-.4-.4-.92-.59-1.43-.59-.52 0-1.04.2-1.43.59L10.3 9.45l-7.72 7.72c-.78.78-.78 2.05 0 2.83L4 21.41c.39.39.9.59 1.41.59.51 0 1.02-.2 1.41-.59l7.78-7.78 2.81-2.81c.8-.78.8-2.07 0-2.86zM5.41 20L4 18.59l7.72-7.72 1.47 1.35L5.41 20z\"/>\n",
              "  </svg>\n",
              "      </button>\n",
              "      \n",
              "  <style>\n",
              "    .colab-df-container {\n",
              "      display:flex;\n",
              "      flex-wrap:wrap;\n",
              "      gap: 12px;\n",
              "    }\n",
              "\n",
              "    .colab-df-convert {\n",
              "      background-color: #E8F0FE;\n",
              "      border: none;\n",
              "      border-radius: 50%;\n",
              "      cursor: pointer;\n",
              "      display: none;\n",
              "      fill: #1967D2;\n",
              "      height: 32px;\n",
              "      padding: 0 0 0 0;\n",
              "      width: 32px;\n",
              "    }\n",
              "\n",
              "    .colab-df-convert:hover {\n",
              "      background-color: #E2EBFA;\n",
              "      box-shadow: 0px 1px 2px rgba(60, 64, 67, 0.3), 0px 1px 3px 1px rgba(60, 64, 67, 0.15);\n",
              "      fill: #174EA6;\n",
              "    }\n",
              "\n",
              "    [theme=dark] .colab-df-convert {\n",
              "      background-color: #3B4455;\n",
              "      fill: #D2E3FC;\n",
              "    }\n",
              "\n",
              "    [theme=dark] .colab-df-convert:hover {\n",
              "      background-color: #434B5C;\n",
              "      box-shadow: 0px 1px 3px 1px rgba(0, 0, 0, 0.15);\n",
              "      filter: drop-shadow(0px 1px 2px rgba(0, 0, 0, 0.3));\n",
              "      fill: #FFFFFF;\n",
              "    }\n",
              "  </style>\n",
              "\n",
              "      <script>\n",
              "        const buttonEl =\n",
              "          document.querySelector('#df-5a2e8600-3cda-4280-8916-2f9652ab9ed8 button.colab-df-convert');\n",
              "        buttonEl.style.display =\n",
              "          google.colab.kernel.accessAllowed ? 'block' : 'none';\n",
              "\n",
              "        async function convertToInteractive(key) {\n",
              "          const element = document.querySelector('#df-5a2e8600-3cda-4280-8916-2f9652ab9ed8');\n",
              "          const dataTable =\n",
              "            await google.colab.kernel.invokeFunction('convertToInteractive',\n",
              "                                                     [key], {});\n",
              "          if (!dataTable) return;\n",
              "\n",
              "          const docLinkHtml = 'Like what you see? Visit the ' +\n",
              "            '<a target=\"_blank\" href=https://colab.research.google.com/notebooks/data_table.ipynb>data table notebook</a>'\n",
              "            + ' to learn more about interactive tables.';\n",
              "          element.innerHTML = '';\n",
              "          dataTable['output_type'] = 'display_data';\n",
              "          await google.colab.output.renderOutput(dataTable, element);\n",
              "          const docLink = document.createElement('div');\n",
              "          docLink.innerHTML = docLinkHtml;\n",
              "          element.appendChild(docLink);\n",
              "        }\n",
              "      </script>\n",
              "    </div>\n",
              "  </div>\n",
              "  "
            ],
            "text/plain": [
              "            Adj Close                          ...   Volume                 \n",
              "                 AAPL        AMZN         BLK  ...     AMZN     BLK     GOOG\n",
              "Date                                           ...                          \n",
              "2017-01-03  27.297691  753.669983  341.648804  ...  3521100  743900  1657300\n",
              "2017-01-04  27.267132  757.179993  341.852203  ...  2510500  680800  1073000\n",
              "2017-01-05  27.405802  780.450012  338.209686  ...  5830100  468400  1335200\n",
              "2017-01-06  27.711330  795.989990  339.765747  ...  5986200  453400  1640200\n",
              "2017-01-09  27.965149  796.919983  336.335327  ...  3446100  505300  1274600\n",
              "\n",
              "[5 rows x 24 columns]"
            ]
          },
          "metadata": {},
          "execution_count": 43
        }
      ]
    },
    {
      "cell_type": "markdown",
      "source": [
        "Just like earlier, we will only keep the ‘Adj Close’ column to perform our calculations:"
      ],
      "metadata": {
        "id": "hgRfAa3Glive"
      }
    },
    {
      "cell_type": "code",
      "source": [
        "df = df['Adj Close']\n",
        "df.head()"
      ],
      "metadata": {
        "colab": {
          "base_uri": "https://localhost:8080/",
          "height": 237
        },
        "id": "jSnRiIjRli1x",
        "outputId": "3fc824f8-ac50-4b06-c63c-df03a4b4f2b9"
      },
      "execution_count": 44,
      "outputs": [
        {
          "output_type": "execute_result",
          "data": {
            "text/html": [
              "\n",
              "  <div id=\"df-2289b38e-e922-4bdb-bb77-e9ae2b3f58e3\">\n",
              "    <div class=\"colab-df-container\">\n",
              "      <div>\n",
              "<style scoped>\n",
              "    .dataframe tbody tr th:only-of-type {\n",
              "        vertical-align: middle;\n",
              "    }\n",
              "\n",
              "    .dataframe tbody tr th {\n",
              "        vertical-align: top;\n",
              "    }\n",
              "\n",
              "    .dataframe thead th {\n",
              "        text-align: right;\n",
              "    }\n",
              "</style>\n",
              "<table border=\"1\" class=\"dataframe\">\n",
              "  <thead>\n",
              "    <tr style=\"text-align: right;\">\n",
              "      <th></th>\n",
              "      <th>AAPL</th>\n",
              "      <th>AMZN</th>\n",
              "      <th>BLK</th>\n",
              "      <th>GOOG</th>\n",
              "    </tr>\n",
              "    <tr>\n",
              "      <th>Date</th>\n",
              "      <th></th>\n",
              "      <th></th>\n",
              "      <th></th>\n",
              "      <th></th>\n",
              "    </tr>\n",
              "  </thead>\n",
              "  <tbody>\n",
              "    <tr>\n",
              "      <th>2017-01-03</th>\n",
              "      <td>27.297691</td>\n",
              "      <td>753.669983</td>\n",
              "      <td>341.648804</td>\n",
              "      <td>786.140015</td>\n",
              "    </tr>\n",
              "    <tr>\n",
              "      <th>2017-01-04</th>\n",
              "      <td>27.267132</td>\n",
              "      <td>757.179993</td>\n",
              "      <td>341.852203</td>\n",
              "      <td>786.900024</td>\n",
              "    </tr>\n",
              "    <tr>\n",
              "      <th>2017-01-05</th>\n",
              "      <td>27.405802</td>\n",
              "      <td>780.450012</td>\n",
              "      <td>338.209686</td>\n",
              "      <td>794.020020</td>\n",
              "    </tr>\n",
              "    <tr>\n",
              "      <th>2017-01-06</th>\n",
              "      <td>27.711330</td>\n",
              "      <td>795.989990</td>\n",
              "      <td>339.765747</td>\n",
              "      <td>806.150024</td>\n",
              "    </tr>\n",
              "    <tr>\n",
              "      <th>2017-01-09</th>\n",
              "      <td>27.965149</td>\n",
              "      <td>796.919983</td>\n",
              "      <td>336.335327</td>\n",
              "      <td>806.650024</td>\n",
              "    </tr>\n",
              "  </tbody>\n",
              "</table>\n",
              "</div>\n",
              "      <button class=\"colab-df-convert\" onclick=\"convertToInteractive('df-2289b38e-e922-4bdb-bb77-e9ae2b3f58e3')\"\n",
              "              title=\"Convert this dataframe to an interactive table.\"\n",
              "              style=\"display:none;\">\n",
              "        \n",
              "  <svg xmlns=\"http://www.w3.org/2000/svg\" height=\"24px\"viewBox=\"0 0 24 24\"\n",
              "       width=\"24px\">\n",
              "    <path d=\"M0 0h24v24H0V0z\" fill=\"none\"/>\n",
              "    <path d=\"M18.56 5.44l.94 2.06.94-2.06 2.06-.94-2.06-.94-.94-2.06-.94 2.06-2.06.94zm-11 1L8.5 8.5l.94-2.06 2.06-.94-2.06-.94L8.5 2.5l-.94 2.06-2.06.94zm10 10l.94 2.06.94-2.06 2.06-.94-2.06-.94-.94-2.06-.94 2.06-2.06.94z\"/><path d=\"M17.41 7.96l-1.37-1.37c-.4-.4-.92-.59-1.43-.59-.52 0-1.04.2-1.43.59L10.3 9.45l-7.72 7.72c-.78.78-.78 2.05 0 2.83L4 21.41c.39.39.9.59 1.41.59.51 0 1.02-.2 1.41-.59l7.78-7.78 2.81-2.81c.8-.78.8-2.07 0-2.86zM5.41 20L4 18.59l7.72-7.72 1.47 1.35L5.41 20z\"/>\n",
              "  </svg>\n",
              "      </button>\n",
              "      \n",
              "  <style>\n",
              "    .colab-df-container {\n",
              "      display:flex;\n",
              "      flex-wrap:wrap;\n",
              "      gap: 12px;\n",
              "    }\n",
              "\n",
              "    .colab-df-convert {\n",
              "      background-color: #E8F0FE;\n",
              "      border: none;\n",
              "      border-radius: 50%;\n",
              "      cursor: pointer;\n",
              "      display: none;\n",
              "      fill: #1967D2;\n",
              "      height: 32px;\n",
              "      padding: 0 0 0 0;\n",
              "      width: 32px;\n",
              "    }\n",
              "\n",
              "    .colab-df-convert:hover {\n",
              "      background-color: #E2EBFA;\n",
              "      box-shadow: 0px 1px 2px rgba(60, 64, 67, 0.3), 0px 1px 3px 1px rgba(60, 64, 67, 0.15);\n",
              "      fill: #174EA6;\n",
              "    }\n",
              "\n",
              "    [theme=dark] .colab-df-convert {\n",
              "      background-color: #3B4455;\n",
              "      fill: #D2E3FC;\n",
              "    }\n",
              "\n",
              "    [theme=dark] .colab-df-convert:hover {\n",
              "      background-color: #434B5C;\n",
              "      box-shadow: 0px 1px 3px 1px rgba(0, 0, 0, 0.15);\n",
              "      filter: drop-shadow(0px 1px 2px rgba(0, 0, 0, 0.3));\n",
              "      fill: #FFFFFF;\n",
              "    }\n",
              "  </style>\n",
              "\n",
              "      <script>\n",
              "        const buttonEl =\n",
              "          document.querySelector('#df-2289b38e-e922-4bdb-bb77-e9ae2b3f58e3 button.colab-df-convert');\n",
              "        buttonEl.style.display =\n",
              "          google.colab.kernel.accessAllowed ? 'block' : 'none';\n",
              "\n",
              "        async function convertToInteractive(key) {\n",
              "          const element = document.querySelector('#df-2289b38e-e922-4bdb-bb77-e9ae2b3f58e3');\n",
              "          const dataTable =\n",
              "            await google.colab.kernel.invokeFunction('convertToInteractive',\n",
              "                                                     [key], {});\n",
              "          if (!dataTable) return;\n",
              "\n",
              "          const docLinkHtml = 'Like what you see? Visit the ' +\n",
              "            '<a target=\"_blank\" href=https://colab.research.google.com/notebooks/data_table.ipynb>data table notebook</a>'\n",
              "            + ' to learn more about interactive tables.';\n",
              "          element.innerHTML = '';\n",
              "          dataTable['output_type'] = 'display_data';\n",
              "          await google.colab.output.renderOutput(dataTable, element);\n",
              "          const docLink = document.createElement('div');\n",
              "          docLink.innerHTML = docLinkHtml;\n",
              "          element.appendChild(docLink);\n",
              "        }\n",
              "      </script>\n",
              "    </div>\n",
              "  </div>\n",
              "  "
            ],
            "text/plain": [
              "                 AAPL        AMZN         BLK        GOOG\n",
              "Date                                                     \n",
              "2017-01-03  27.297691  753.669983  341.648804  786.140015\n",
              "2017-01-04  27.267132  757.179993  341.852203  786.900024\n",
              "2017-01-05  27.405802  780.450012  338.209686  794.020020\n",
              "2017-01-06  27.711330  795.989990  339.765747  806.150024\n",
              "2017-01-09  27.965149  796.919983  336.335327  806.650024"
            ]
          },
          "metadata": {},
          "execution_count": 44
        }
      ]
    },
    {
      "cell_type": "markdown",
      "source": [
        "#### Covariance and Correlation matrices"
      ],
      "metadata": {
        "id": "IpCVPP-mmKVk"
      }
    },
    {
      "cell_type": "code",
      "source": [
        "# Log of percentage change\n",
        "cov_matrix = df.pct_change().apply(lambda x: np.log(1+x)).cov()\n",
        "cov_matrix"
      ],
      "metadata": {
        "colab": {
          "base_uri": "https://localhost:8080/",
          "height": 175
        },
        "id": "RO0OC3KZmKkX",
        "outputId": "c691631e-858f-4e8a-f2bd-0f667f6f34a8"
      },
      "execution_count": 45,
      "outputs": [
        {
          "output_type": "execute_result",
          "data": {
            "text/html": [
              "\n",
              "  <div id=\"df-a4520106-bb28-446a-8509-5f18f974023a\">\n",
              "    <div class=\"colab-df-container\">\n",
              "      <div>\n",
              "<style scoped>\n",
              "    .dataframe tbody tr th:only-of-type {\n",
              "        vertical-align: middle;\n",
              "    }\n",
              "\n",
              "    .dataframe tbody tr th {\n",
              "        vertical-align: top;\n",
              "    }\n",
              "\n",
              "    .dataframe thead th {\n",
              "        text-align: right;\n",
              "    }\n",
              "</style>\n",
              "<table border=\"1\" class=\"dataframe\">\n",
              "  <thead>\n",
              "    <tr style=\"text-align: right;\">\n",
              "      <th></th>\n",
              "      <th>AAPL</th>\n",
              "      <th>AMZN</th>\n",
              "      <th>BLK</th>\n",
              "      <th>GOOG</th>\n",
              "    </tr>\n",
              "  </thead>\n",
              "  <tbody>\n",
              "    <tr>\n",
              "      <th>AAPL</th>\n",
              "      <td>0.000369</td>\n",
              "      <td>0.000226</td>\n",
              "      <td>0.000193</td>\n",
              "      <td>0.000217</td>\n",
              "    </tr>\n",
              "    <tr>\n",
              "      <th>AMZN</th>\n",
              "      <td>0.000226</td>\n",
              "      <td>0.000342</td>\n",
              "      <td>0.000145</td>\n",
              "      <td>0.000211</td>\n",
              "    </tr>\n",
              "    <tr>\n",
              "      <th>BLK</th>\n",
              "      <td>0.000193</td>\n",
              "      <td>0.000145</td>\n",
              "      <td>0.000329</td>\n",
              "      <td>0.000183</td>\n",
              "    </tr>\n",
              "    <tr>\n",
              "      <th>GOOG</th>\n",
              "      <td>0.000217</td>\n",
              "      <td>0.000211</td>\n",
              "      <td>0.000183</td>\n",
              "      <td>0.000290</td>\n",
              "    </tr>\n",
              "  </tbody>\n",
              "</table>\n",
              "</div>\n",
              "      <button class=\"colab-df-convert\" onclick=\"convertToInteractive('df-a4520106-bb28-446a-8509-5f18f974023a')\"\n",
              "              title=\"Convert this dataframe to an interactive table.\"\n",
              "              style=\"display:none;\">\n",
              "        \n",
              "  <svg xmlns=\"http://www.w3.org/2000/svg\" height=\"24px\"viewBox=\"0 0 24 24\"\n",
              "       width=\"24px\">\n",
              "    <path d=\"M0 0h24v24H0V0z\" fill=\"none\"/>\n",
              "    <path d=\"M18.56 5.44l.94 2.06.94-2.06 2.06-.94-2.06-.94-.94-2.06-.94 2.06-2.06.94zm-11 1L8.5 8.5l.94-2.06 2.06-.94-2.06-.94L8.5 2.5l-.94 2.06-2.06.94zm10 10l.94 2.06.94-2.06 2.06-.94-2.06-.94-.94-2.06-.94 2.06-2.06.94z\"/><path d=\"M17.41 7.96l-1.37-1.37c-.4-.4-.92-.59-1.43-.59-.52 0-1.04.2-1.43.59L10.3 9.45l-7.72 7.72c-.78.78-.78 2.05 0 2.83L4 21.41c.39.39.9.59 1.41.59.51 0 1.02-.2 1.41-.59l7.78-7.78 2.81-2.81c.8-.78.8-2.07 0-2.86zM5.41 20L4 18.59l7.72-7.72 1.47 1.35L5.41 20z\"/>\n",
              "  </svg>\n",
              "      </button>\n",
              "      \n",
              "  <style>\n",
              "    .colab-df-container {\n",
              "      display:flex;\n",
              "      flex-wrap:wrap;\n",
              "      gap: 12px;\n",
              "    }\n",
              "\n",
              "    .colab-df-convert {\n",
              "      background-color: #E8F0FE;\n",
              "      border: none;\n",
              "      border-radius: 50%;\n",
              "      cursor: pointer;\n",
              "      display: none;\n",
              "      fill: #1967D2;\n",
              "      height: 32px;\n",
              "      padding: 0 0 0 0;\n",
              "      width: 32px;\n",
              "    }\n",
              "\n",
              "    .colab-df-convert:hover {\n",
              "      background-color: #E2EBFA;\n",
              "      box-shadow: 0px 1px 2px rgba(60, 64, 67, 0.3), 0px 1px 3px 1px rgba(60, 64, 67, 0.15);\n",
              "      fill: #174EA6;\n",
              "    }\n",
              "\n",
              "    [theme=dark] .colab-df-convert {\n",
              "      background-color: #3B4455;\n",
              "      fill: #D2E3FC;\n",
              "    }\n",
              "\n",
              "    [theme=dark] .colab-df-convert:hover {\n",
              "      background-color: #434B5C;\n",
              "      box-shadow: 0px 1px 3px 1px rgba(0, 0, 0, 0.15);\n",
              "      filter: drop-shadow(0px 1px 2px rgba(0, 0, 0, 0.3));\n",
              "      fill: #FFFFFF;\n",
              "    }\n",
              "  </style>\n",
              "\n",
              "      <script>\n",
              "        const buttonEl =\n",
              "          document.querySelector('#df-a4520106-bb28-446a-8509-5f18f974023a button.colab-df-convert');\n",
              "        buttonEl.style.display =\n",
              "          google.colab.kernel.accessAllowed ? 'block' : 'none';\n",
              "\n",
              "        async function convertToInteractive(key) {\n",
              "          const element = document.querySelector('#df-a4520106-bb28-446a-8509-5f18f974023a');\n",
              "          const dataTable =\n",
              "            await google.colab.kernel.invokeFunction('convertToInteractive',\n",
              "                                                     [key], {});\n",
              "          if (!dataTable) return;\n",
              "\n",
              "          const docLinkHtml = 'Like what you see? Visit the ' +\n",
              "            '<a target=\"_blank\" href=https://colab.research.google.com/notebooks/data_table.ipynb>data table notebook</a>'\n",
              "            + ' to learn more about interactive tables.';\n",
              "          element.innerHTML = '';\n",
              "          dataTable['output_type'] = 'display_data';\n",
              "          await google.colab.output.renderOutput(dataTable, element);\n",
              "          const docLink = document.createElement('div');\n",
              "          docLink.innerHTML = docLinkHtml;\n",
              "          element.appendChild(docLink);\n",
              "        }\n",
              "      </script>\n",
              "    </div>\n",
              "  </div>\n",
              "  "
            ],
            "text/plain": [
              "          AAPL      AMZN       BLK      GOOG\n",
              "AAPL  0.000369  0.000226  0.000193  0.000217\n",
              "AMZN  0.000226  0.000342  0.000145  0.000211\n",
              "BLK   0.000193  0.000145  0.000329  0.000183\n",
              "GOOG  0.000217  0.000211  0.000183  0.000290"
            ]
          },
          "metadata": {},
          "execution_count": 45
        }
      ]
    },
    {
      "cell_type": "markdown",
      "source": [
        "The covariance between Apple and Apple, or BlackRock and BlackRock is the variance of that asset."
      ],
      "metadata": {
        "id": "si6BjpxTmKpa"
      }
    },
    {
      "cell_type": "markdown",
      "source": [
        "The next step is to create the correlation matrix. Correlation ranges from -1 to 1.\n",
        "\n",
        "- A correlation of -1 means negative relation, i.e, if correlation between Asset A and Asset B is -1, if Asset A increases, Asset B decreases.\n",
        "\n",
        "- A correlation of +1 means positive relation, i.e, if correlation between Asset A and Asset B is 1, if Asset A increases, Asset B increases.\n",
        "\n",
        "- A correlation of 0 means no relation, i.e, if correlation between Asset A and Asset B is 0, they dont have any effect on each other."
      ],
      "metadata": {
        "id": "DbjzJqEDmKxc"
      }
    },
    {
      "cell_type": "code",
      "source": [
        "corr_matrix = df.pct_change().apply(lambda x: np.log(1+x)).corr()\n",
        "corr_matrix"
      ],
      "metadata": {
        "colab": {
          "base_uri": "https://localhost:8080/",
          "height": 175
        },
        "id": "Gs870-9Gmt2O",
        "outputId": "7f024313-68f8-4efb-bdb6-609319896395"
      },
      "execution_count": 46,
      "outputs": [
        {
          "output_type": "execute_result",
          "data": {
            "text/html": [
              "\n",
              "  <div id=\"df-dbb34a1f-c2e3-4a53-b52c-044d545225ba\">\n",
              "    <div class=\"colab-df-container\">\n",
              "      <div>\n",
              "<style scoped>\n",
              "    .dataframe tbody tr th:only-of-type {\n",
              "        vertical-align: middle;\n",
              "    }\n",
              "\n",
              "    .dataframe tbody tr th {\n",
              "        vertical-align: top;\n",
              "    }\n",
              "\n",
              "    .dataframe thead th {\n",
              "        text-align: right;\n",
              "    }\n",
              "</style>\n",
              "<table border=\"1\" class=\"dataframe\">\n",
              "  <thead>\n",
              "    <tr style=\"text-align: right;\">\n",
              "      <th></th>\n",
              "      <th>AAPL</th>\n",
              "      <th>AMZN</th>\n",
              "      <th>BLK</th>\n",
              "      <th>GOOG</th>\n",
              "    </tr>\n",
              "  </thead>\n",
              "  <tbody>\n",
              "    <tr>\n",
              "      <th>AAPL</th>\n",
              "      <td>1.000000</td>\n",
              "      <td>0.636225</td>\n",
              "      <td>0.553696</td>\n",
              "      <td>0.663826</td>\n",
              "    </tr>\n",
              "    <tr>\n",
              "      <th>AMZN</th>\n",
              "      <td>0.636225</td>\n",
              "      <td>1.000000</td>\n",
              "      <td>0.430963</td>\n",
              "      <td>0.670383</td>\n",
              "    </tr>\n",
              "    <tr>\n",
              "      <th>BLK</th>\n",
              "      <td>0.553696</td>\n",
              "      <td>0.430963</td>\n",
              "      <td>1.000000</td>\n",
              "      <td>0.591536</td>\n",
              "    </tr>\n",
              "    <tr>\n",
              "      <th>GOOG</th>\n",
              "      <td>0.663826</td>\n",
              "      <td>0.670383</td>\n",
              "      <td>0.591536</td>\n",
              "      <td>1.000000</td>\n",
              "    </tr>\n",
              "  </tbody>\n",
              "</table>\n",
              "</div>\n",
              "      <button class=\"colab-df-convert\" onclick=\"convertToInteractive('df-dbb34a1f-c2e3-4a53-b52c-044d545225ba')\"\n",
              "              title=\"Convert this dataframe to an interactive table.\"\n",
              "              style=\"display:none;\">\n",
              "        \n",
              "  <svg xmlns=\"http://www.w3.org/2000/svg\" height=\"24px\"viewBox=\"0 0 24 24\"\n",
              "       width=\"24px\">\n",
              "    <path d=\"M0 0h24v24H0V0z\" fill=\"none\"/>\n",
              "    <path d=\"M18.56 5.44l.94 2.06.94-2.06 2.06-.94-2.06-.94-.94-2.06-.94 2.06-2.06.94zm-11 1L8.5 8.5l.94-2.06 2.06-.94-2.06-.94L8.5 2.5l-.94 2.06-2.06.94zm10 10l.94 2.06.94-2.06 2.06-.94-2.06-.94-.94-2.06-.94 2.06-2.06.94z\"/><path d=\"M17.41 7.96l-1.37-1.37c-.4-.4-.92-.59-1.43-.59-.52 0-1.04.2-1.43.59L10.3 9.45l-7.72 7.72c-.78.78-.78 2.05 0 2.83L4 21.41c.39.39.9.59 1.41.59.51 0 1.02-.2 1.41-.59l7.78-7.78 2.81-2.81c.8-.78.8-2.07 0-2.86zM5.41 20L4 18.59l7.72-7.72 1.47 1.35L5.41 20z\"/>\n",
              "  </svg>\n",
              "      </button>\n",
              "      \n",
              "  <style>\n",
              "    .colab-df-container {\n",
              "      display:flex;\n",
              "      flex-wrap:wrap;\n",
              "      gap: 12px;\n",
              "    }\n",
              "\n",
              "    .colab-df-convert {\n",
              "      background-color: #E8F0FE;\n",
              "      border: none;\n",
              "      border-radius: 50%;\n",
              "      cursor: pointer;\n",
              "      display: none;\n",
              "      fill: #1967D2;\n",
              "      height: 32px;\n",
              "      padding: 0 0 0 0;\n",
              "      width: 32px;\n",
              "    }\n",
              "\n",
              "    .colab-df-convert:hover {\n",
              "      background-color: #E2EBFA;\n",
              "      box-shadow: 0px 1px 2px rgba(60, 64, 67, 0.3), 0px 1px 3px 1px rgba(60, 64, 67, 0.15);\n",
              "      fill: #174EA6;\n",
              "    }\n",
              "\n",
              "    [theme=dark] .colab-df-convert {\n",
              "      background-color: #3B4455;\n",
              "      fill: #D2E3FC;\n",
              "    }\n",
              "\n",
              "    [theme=dark] .colab-df-convert:hover {\n",
              "      background-color: #434B5C;\n",
              "      box-shadow: 0px 1px 3px 1px rgba(0, 0, 0, 0.15);\n",
              "      filter: drop-shadow(0px 1px 2px rgba(0, 0, 0, 0.3));\n",
              "      fill: #FFFFFF;\n",
              "    }\n",
              "  </style>\n",
              "\n",
              "      <script>\n",
              "        const buttonEl =\n",
              "          document.querySelector('#df-dbb34a1f-c2e3-4a53-b52c-044d545225ba button.colab-df-convert');\n",
              "        buttonEl.style.display =\n",
              "          google.colab.kernel.accessAllowed ? 'block' : 'none';\n",
              "\n",
              "        async function convertToInteractive(key) {\n",
              "          const element = document.querySelector('#df-dbb34a1f-c2e3-4a53-b52c-044d545225ba');\n",
              "          const dataTable =\n",
              "            await google.colab.kernel.invokeFunction('convertToInteractive',\n",
              "                                                     [key], {});\n",
              "          if (!dataTable) return;\n",
              "\n",
              "          const docLinkHtml = 'Like what you see? Visit the ' +\n",
              "            '<a target=\"_blank\" href=https://colab.research.google.com/notebooks/data_table.ipynb>data table notebook</a>'\n",
              "            + ' to learn more about interactive tables.';\n",
              "          element.innerHTML = '';\n",
              "          dataTable['output_type'] = 'display_data';\n",
              "          await google.colab.output.renderOutput(dataTable, element);\n",
              "          const docLink = document.createElement('div');\n",
              "          docLink.innerHTML = docLinkHtml;\n",
              "          element.appendChild(docLink);\n",
              "        }\n",
              "      </script>\n",
              "    </div>\n",
              "  </div>\n",
              "  "
            ],
            "text/plain": [
              "          AAPL      AMZN       BLK      GOOG\n",
              "AAPL  1.000000  0.636225  0.553696  0.663826\n",
              "AMZN  0.636225  1.000000  0.430963  0.670383\n",
              "BLK   0.553696  0.430963  1.000000  0.591536\n",
              "GOOG  0.663826  0.670383  0.591536  1.000000"
            ]
          },
          "metadata": {},
          "execution_count": 46
        }
      ]
    },
    {
      "cell_type": "markdown",
      "source": [
        "#### Portfolio Variance"
      ],
      "metadata": {
        "id": "aT2yWsPbmuFv"
      }
    },
    {
      "cell_type": "markdown",
      "source": [
        "The formula for calculating portfolio variance differs from the usual formula of variance. It looks like this:\n",
        "\n",
        "$$\\sigma^2(R_{p}) = \\sum{i=1}^{n} \\sum_{j=1}^{n} w_i w_j COV(R_i, R_j) $$"
      ],
      "metadata": {
        "id": "pVnDePXzli9M"
      }
    },
    {
      "cell_type": "markdown",
      "source": [
        "Here, $w_i$ and $w_j$ denote weights of all assets from 1 to n (in our case from 1 to 4) and $COV(R_i, R_j)$ is the covariance of the two assets denoted by $i$ and $j$.\n",
        "\n",
        "The simplest way to do this complex calculation is defining a list of weights and multiplying this list horizontally and vertically with our covariance matrix.\n",
        "\n",
        "For this purpose, let’s define a random list of weights for all 4 assets. Remember that sum of weights should always be 1."
      ],
      "metadata": {
        "id": "So1vE8q7nLWL"
      }
    },
    {
      "cell_type": "code",
      "source": [
        "# Randomly weighted portfolio's variance\n",
        "w = {'AAPL': 0.1, 'BLK': 0.2, 'GOOG': 0.5, 'AMZN': 0.2}\n",
        "port_var = cov_matrix.mul(w, axis=0).mul(w, axis=1).sum().sum()\n",
        "port_var"
      ],
      "metadata": {
        "colab": {
          "base_uri": "https://localhost:8080/"
        },
        "id": "Zi9qlNGynLmF",
        "outputId": "26f61454-d2bc-4deb-de83-e757d787cabe"
      },
      "execution_count": 47,
      "outputs": [
        {
          "output_type": "execute_result",
          "data": {
            "text/plain": [
              "0.00023168370690434734"
            ]
          },
          "metadata": {},
          "execution_count": 47
        }
      ]
    },
    {
      "cell_type": "markdown",
      "source": [
        "Thus we have found the portfolio variance. But for truly optimizing the portfolio, we cant plug in random weights. We will need to calculate it according to what gives us maximum expected returns."
      ],
      "metadata": {
        "id": "sjkJJf_EnL3A"
      }
    },
    {
      "cell_type": "markdown",
      "source": [
        "#### Portfolio Expected Returns"
      ],
      "metadata": {
        "id": "v7NAN4J_kxI9"
      }
    },
    {
      "cell_type": "markdown",
      "source": [
        "The mean of returns (given by change in prices of asset stock prices) give us the expected returns of that asset.\n",
        "The sum of all individual expected returns further multiplied by the weight of assets give us expected return for the portfolio."
      ],
      "metadata": {
        "id": "6Ck1wU0fnsTF"
      }
    },
    {
      "cell_type": "markdown",
      "source": [
        "Note that we use the *resample()* function to get yearly returns. The argument to function, ‘Y’, denotes yearly.\n",
        "If we dont perform resampling, we will get daily returns, like you saw earlier in the ‘Fundamental Terms’ section."
      ],
      "metadata": {
        "id": "P2TFu5lfnsjX"
      }
    },
    {
      "cell_type": "code",
      "source": [
        "ind_er = df.resample('Y').last().pct_change().mean()\n",
        "ind_er"
      ],
      "metadata": {
        "colab": {
          "base_uri": "https://localhost:8080/"
        },
        "id": "ObgBSE37n3UX",
        "outputId": "3d3d0599-0f5f-4152-a224-8189ef3f4c0b"
      },
      "execution_count": 48,
      "outputs": [
        {
          "output_type": "execute_result",
          "data": {
            "text/plain": [
              "AAPL    0.502501\n",
              "AMZN    0.328190\n",
              "BLK     0.216518\n",
              "GOOG    0.314458\n",
              "dtype: float64"
            ]
          },
          "metadata": {},
          "execution_count": 48
        }
      ]
    },
    {
      "cell_type": "markdown",
      "source": [
        "And our portfolio returns will be:"
      ],
      "metadata": {
        "id": "rHX7S0i6n3jK"
      }
    },
    {
      "cell_type": "code",
      "source": [
        "# Portfolio returns\n",
        "w = [0.1, 0.2, 0.5, 0.2]\n",
        "port_er = (w*ind_er).sum()\n",
        "port_er"
      ],
      "metadata": {
        "colab": {
          "base_uri": "https://localhost:8080/"
        },
        "id": "Uw9m8oWun3xV",
        "outputId": "15587894-b810-46ca-e588-fd8a7159e42c"
      },
      "execution_count": 49,
      "outputs": [
        {
          "output_type": "execute_result",
          "data": {
            "text/plain": [
              "0.28703835849728876"
            ]
          },
          "metadata": {},
          "execution_count": 49
        }
      ]
    },
    {
      "cell_type": "markdown",
      "source": [
        "### Plotting the Efficient Frontier"
      ],
      "metadata": {
        "id": "DuHlVHyGn37p"
      }
    },
    {
      "cell_type": "markdown",
      "source": [
        "This is the aim of going through all the topics above, to plot the efficient frontier. Efficient frontier is a graph with ‘returns’ on the Y-axis and ‘volatility’ on the X-axis. It shows us the maximum return we can get for a set level of volatility, or conversely, the volatility that we need to accept for certain level of returns."
      ],
      "metadata": {
        "id": "L6SD2C20oXAJ"
      }
    },
    {
      "cell_type": "markdown",
      "source": [
        "Below, you can see the calculations and code for finding the optimal weights of assets and plotting the efficient frontier for given portfolio.\n",
        "\n",
        "But first, lets take a look at the volatiltilty and returns of individual assets for a better understanding."
      ],
      "metadata": {
        "id": "_PYrMmr5oXLk"
      }
    },
    {
      "cell_type": "code",
      "source": [
        "# Volatility is given by the annual standard deviation. We multiply by 250 because there are 250 trading days/year.\n",
        "ann_sd = df.pct_change().apply(lambda x: np.log(1+x)).std().apply(lambda x: x*np.sqrt(250))\n",
        "ann_sd"
      ],
      "metadata": {
        "colab": {
          "base_uri": "https://localhost:8080/"
        },
        "id": "GzaJW8-eoXfe",
        "outputId": "2f385711-1760-4e78-a40d-ffb7fd94540f"
      },
      "execution_count": 50,
      "outputs": [
        {
          "output_type": "execute_result",
          "data": {
            "text/plain": [
              "AAPL    0.303666\n",
              "AMZN    0.292500\n",
              "BLK     0.286843\n",
              "GOOG    0.269054\n",
              "dtype: float64"
            ]
          },
          "metadata": {},
          "execution_count": 50
        }
      ]
    },
    {
      "cell_type": "code",
      "source": [
        "assets = pd.concat([ind_er, ann_sd], axis=1) ## Creating a table for visualising returns and volatility of assets\n",
        "assets.columns = ['Returns', 'Volatility']\n",
        "assets"
      ],
      "metadata": {
        "colab": {
          "base_uri": "https://localhost:8080/",
          "height": 175
        },
        "id": "L0r6yM31nssI",
        "outputId": "b01d4cb6-3cdd-46f0-b1f0-5194cce78b49"
      },
      "execution_count": 51,
      "outputs": [
        {
          "output_type": "execute_result",
          "data": {
            "text/html": [
              "\n",
              "  <div id=\"df-9e5fff20-fee0-4352-8f68-7e313e6df6bf\">\n",
              "    <div class=\"colab-df-container\">\n",
              "      <div>\n",
              "<style scoped>\n",
              "    .dataframe tbody tr th:only-of-type {\n",
              "        vertical-align: middle;\n",
              "    }\n",
              "\n",
              "    .dataframe tbody tr th {\n",
              "        vertical-align: top;\n",
              "    }\n",
              "\n",
              "    .dataframe thead th {\n",
              "        text-align: right;\n",
              "    }\n",
              "</style>\n",
              "<table border=\"1\" class=\"dataframe\">\n",
              "  <thead>\n",
              "    <tr style=\"text-align: right;\">\n",
              "      <th></th>\n",
              "      <th>Returns</th>\n",
              "      <th>Volatility</th>\n",
              "    </tr>\n",
              "  </thead>\n",
              "  <tbody>\n",
              "    <tr>\n",
              "      <th>AAPL</th>\n",
              "      <td>0.502501</td>\n",
              "      <td>0.303666</td>\n",
              "    </tr>\n",
              "    <tr>\n",
              "      <th>AMZN</th>\n",
              "      <td>0.328190</td>\n",
              "      <td>0.292500</td>\n",
              "    </tr>\n",
              "    <tr>\n",
              "      <th>BLK</th>\n",
              "      <td>0.216518</td>\n",
              "      <td>0.286843</td>\n",
              "    </tr>\n",
              "    <tr>\n",
              "      <th>GOOG</th>\n",
              "      <td>0.314458</td>\n",
              "      <td>0.269054</td>\n",
              "    </tr>\n",
              "  </tbody>\n",
              "</table>\n",
              "</div>\n",
              "      <button class=\"colab-df-convert\" onclick=\"convertToInteractive('df-9e5fff20-fee0-4352-8f68-7e313e6df6bf')\"\n",
              "              title=\"Convert this dataframe to an interactive table.\"\n",
              "              style=\"display:none;\">\n",
              "        \n",
              "  <svg xmlns=\"http://www.w3.org/2000/svg\" height=\"24px\"viewBox=\"0 0 24 24\"\n",
              "       width=\"24px\">\n",
              "    <path d=\"M0 0h24v24H0V0z\" fill=\"none\"/>\n",
              "    <path d=\"M18.56 5.44l.94 2.06.94-2.06 2.06-.94-2.06-.94-.94-2.06-.94 2.06-2.06.94zm-11 1L8.5 8.5l.94-2.06 2.06-.94-2.06-.94L8.5 2.5l-.94 2.06-2.06.94zm10 10l.94 2.06.94-2.06 2.06-.94-2.06-.94-.94-2.06-.94 2.06-2.06.94z\"/><path d=\"M17.41 7.96l-1.37-1.37c-.4-.4-.92-.59-1.43-.59-.52 0-1.04.2-1.43.59L10.3 9.45l-7.72 7.72c-.78.78-.78 2.05 0 2.83L4 21.41c.39.39.9.59 1.41.59.51 0 1.02-.2 1.41-.59l7.78-7.78 2.81-2.81c.8-.78.8-2.07 0-2.86zM5.41 20L4 18.59l7.72-7.72 1.47 1.35L5.41 20z\"/>\n",
              "  </svg>\n",
              "      </button>\n",
              "      \n",
              "  <style>\n",
              "    .colab-df-container {\n",
              "      display:flex;\n",
              "      flex-wrap:wrap;\n",
              "      gap: 12px;\n",
              "    }\n",
              "\n",
              "    .colab-df-convert {\n",
              "      background-color: #E8F0FE;\n",
              "      border: none;\n",
              "      border-radius: 50%;\n",
              "      cursor: pointer;\n",
              "      display: none;\n",
              "      fill: #1967D2;\n",
              "      height: 32px;\n",
              "      padding: 0 0 0 0;\n",
              "      width: 32px;\n",
              "    }\n",
              "\n",
              "    .colab-df-convert:hover {\n",
              "      background-color: #E2EBFA;\n",
              "      box-shadow: 0px 1px 2px rgba(60, 64, 67, 0.3), 0px 1px 3px 1px rgba(60, 64, 67, 0.15);\n",
              "      fill: #174EA6;\n",
              "    }\n",
              "\n",
              "    [theme=dark] .colab-df-convert {\n",
              "      background-color: #3B4455;\n",
              "      fill: #D2E3FC;\n",
              "    }\n",
              "\n",
              "    [theme=dark] .colab-df-convert:hover {\n",
              "      background-color: #434B5C;\n",
              "      box-shadow: 0px 1px 3px 1px rgba(0, 0, 0, 0.15);\n",
              "      filter: drop-shadow(0px 1px 2px rgba(0, 0, 0, 0.3));\n",
              "      fill: #FFFFFF;\n",
              "    }\n",
              "  </style>\n",
              "\n",
              "      <script>\n",
              "        const buttonEl =\n",
              "          document.querySelector('#df-9e5fff20-fee0-4352-8f68-7e313e6df6bf button.colab-df-convert');\n",
              "        buttonEl.style.display =\n",
              "          google.colab.kernel.accessAllowed ? 'block' : 'none';\n",
              "\n",
              "        async function convertToInteractive(key) {\n",
              "          const element = document.querySelector('#df-9e5fff20-fee0-4352-8f68-7e313e6df6bf');\n",
              "          const dataTable =\n",
              "            await google.colab.kernel.invokeFunction('convertToInteractive',\n",
              "                                                     [key], {});\n",
              "          if (!dataTable) return;\n",
              "\n",
              "          const docLinkHtml = 'Like what you see? Visit the ' +\n",
              "            '<a target=\"_blank\" href=https://colab.research.google.com/notebooks/data_table.ipynb>data table notebook</a>'\n",
              "            + ' to learn more about interactive tables.';\n",
              "          element.innerHTML = '';\n",
              "          dataTable['output_type'] = 'display_data';\n",
              "          await google.colab.output.renderOutput(dataTable, element);\n",
              "          const docLink = document.createElement('div');\n",
              "          docLink.innerHTML = docLinkHtml;\n",
              "          element.appendChild(docLink);\n",
              "        }\n",
              "      </script>\n",
              "    </div>\n",
              "  </div>\n",
              "  "
            ],
            "text/plain": [
              "       Returns  Volatility\n",
              "AAPL  0.502501    0.303666\n",
              "AMZN  0.328190    0.292500\n",
              "BLK   0.216518    0.286843\n",
              "GOOG  0.314458    0.269054"
            ]
          },
          "metadata": {},
          "execution_count": 51
        }
      ]
    },
    {
      "cell_type": "markdown",
      "source": [
        "We can see that in this case, Apple has the maximum risk (volatility) but also the highest of returns. The lowest risk is presented by Google, and has an average return within our portfolio."
      ],
      "metadata": {
        "id": "SL7PhFuAoqOI"
      }
    },
    {
      "cell_type": "markdown",
      "source": [
        "Next, to plot the graph of efficient frontier, we need run a loop. In each iteration, the loop considers different weights for assets and calculates the return and volatility of that particular portfolio combination.\n",
        "\n",
        "We run this loop a 1000 times.\n",
        "\n",
        "To get random numbers for weights, we use the np.random.random() function. But remember that the sum of weights must be 1, so we divide those weights by their cumulative sum."
      ],
      "metadata": {
        "id": "hKZDVSNNoqfb"
      }
    },
    {
      "cell_type": "code",
      "source": [
        "p_ret = [] # Define an empty array for portfolio returns\n",
        "p_vol = [] # Define an empty array for portfolio volatility\n",
        "p_weights = [] # Define an empty array for asset weights\n",
        "\n",
        "num_assets = len(df.columns)\n",
        "num_portfolios = 10000"
      ],
      "metadata": {
        "id": "1sMGpnnfoqwz"
      },
      "execution_count": 52,
      "outputs": []
    },
    {
      "cell_type": "code",
      "source": [
        "for portfolio in range(num_portfolios):\n",
        "    weights = np.random.random(num_assets)\n",
        "    weights = weights/np.sum(weights)\n",
        "    p_weights.append(weights)\n",
        "    returns = np.dot(weights, ind_er) # Returns are the product of individual expected returns of asset and its \n",
        "                                      # weights \n",
        "    p_ret.append(returns)\n",
        "    var = cov_matrix.mul(weights, axis=0).mul(weights, axis=1).sum().sum()# Portfolio Variance\n",
        "    sd = np.sqrt(var) # Daily standard deviation\n",
        "    ann_sd = sd*np.sqrt(250) # Annual standard deviation = volatility\n",
        "    p_vol.append(ann_sd)"
      ],
      "metadata": {
        "id": "A1VZwftOpKr6"
      },
      "execution_count": 53,
      "outputs": []
    },
    {
      "cell_type": "code",
      "source": [
        "data = {'Returns':p_ret, 'Volatility':p_vol}\n",
        "\n",
        "for counter, symbol in enumerate(df.columns.tolist()):\n",
        "    #print(counter, symbol)\n",
        "    data[symbol+' weight'] = [w[counter] for w in p_weights]\n",
        "\n",
        "portfolios  = pd.DataFrame(data)\n",
        "portfolios.head() # Dataframe of the 10000 portfolios created"
      ],
      "metadata": {
        "colab": {
          "base_uri": "https://localhost:8080/",
          "height": 206
        },
        "id": "5A8fY3vLpK68",
        "outputId": "6af52456-dc73-495b-afd4-701373cf31ec"
      },
      "execution_count": 54,
      "outputs": [
        {
          "output_type": "execute_result",
          "data": {
            "text/html": [
              "\n",
              "  <div id=\"df-58d1b759-f72f-4188-b350-3ebfed8d9ea0\">\n",
              "    <div class=\"colab-df-container\">\n",
              "      <div>\n",
              "<style scoped>\n",
              "    .dataframe tbody tr th:only-of-type {\n",
              "        vertical-align: middle;\n",
              "    }\n",
              "\n",
              "    .dataframe tbody tr th {\n",
              "        vertical-align: top;\n",
              "    }\n",
              "\n",
              "    .dataframe thead th {\n",
              "        text-align: right;\n",
              "    }\n",
              "</style>\n",
              "<table border=\"1\" class=\"dataframe\">\n",
              "  <thead>\n",
              "    <tr style=\"text-align: right;\">\n",
              "      <th></th>\n",
              "      <th>Returns</th>\n",
              "      <th>Volatility</th>\n",
              "      <th>AAPL weight</th>\n",
              "      <th>AMZN weight</th>\n",
              "      <th>BLK weight</th>\n",
              "      <th>GOOG weight</th>\n",
              "    </tr>\n",
              "  </thead>\n",
              "  <tbody>\n",
              "    <tr>\n",
              "      <th>0</th>\n",
              "      <td>0.352378</td>\n",
              "      <td>0.245131</td>\n",
              "      <td>0.346753</td>\n",
              "      <td>0.027954</td>\n",
              "      <td>0.282498</td>\n",
              "      <td>0.342795</td>\n",
              "    </tr>\n",
              "    <tr>\n",
              "      <th>1</th>\n",
              "      <td>0.306374</td>\n",
              "      <td>0.237198</td>\n",
              "      <td>0.095898</td>\n",
              "      <td>0.301360</td>\n",
              "      <td>0.308914</td>\n",
              "      <td>0.293827</td>\n",
              "    </tr>\n",
              "    <tr>\n",
              "      <th>2</th>\n",
              "      <td>0.293199</td>\n",
              "      <td>0.243758</td>\n",
              "      <td>0.063530</td>\n",
              "      <td>0.032495</td>\n",
              "      <td>0.343591</td>\n",
              "      <td>0.560384</td>\n",
              "    </tr>\n",
              "    <tr>\n",
              "      <th>3</th>\n",
              "      <td>0.303165</td>\n",
              "      <td>0.240452</td>\n",
              "      <td>0.169009</td>\n",
              "      <td>0.130140</td>\n",
              "      <td>0.458046</td>\n",
              "      <td>0.242805</td>\n",
              "    </tr>\n",
              "    <tr>\n",
              "      <th>4</th>\n",
              "      <td>0.342915</td>\n",
              "      <td>0.241395</td>\n",
              "      <td>0.216278</td>\n",
              "      <td>0.270366</td>\n",
              "      <td>0.162600</td>\n",
              "      <td>0.350755</td>\n",
              "    </tr>\n",
              "  </tbody>\n",
              "</table>\n",
              "</div>\n",
              "      <button class=\"colab-df-convert\" onclick=\"convertToInteractive('df-58d1b759-f72f-4188-b350-3ebfed8d9ea0')\"\n",
              "              title=\"Convert this dataframe to an interactive table.\"\n",
              "              style=\"display:none;\">\n",
              "        \n",
              "  <svg xmlns=\"http://www.w3.org/2000/svg\" height=\"24px\"viewBox=\"0 0 24 24\"\n",
              "       width=\"24px\">\n",
              "    <path d=\"M0 0h24v24H0V0z\" fill=\"none\"/>\n",
              "    <path d=\"M18.56 5.44l.94 2.06.94-2.06 2.06-.94-2.06-.94-.94-2.06-.94 2.06-2.06.94zm-11 1L8.5 8.5l.94-2.06 2.06-.94-2.06-.94L8.5 2.5l-.94 2.06-2.06.94zm10 10l.94 2.06.94-2.06 2.06-.94-2.06-.94-.94-2.06-.94 2.06-2.06.94z\"/><path d=\"M17.41 7.96l-1.37-1.37c-.4-.4-.92-.59-1.43-.59-.52 0-1.04.2-1.43.59L10.3 9.45l-7.72 7.72c-.78.78-.78 2.05 0 2.83L4 21.41c.39.39.9.59 1.41.59.51 0 1.02-.2 1.41-.59l7.78-7.78 2.81-2.81c.8-.78.8-2.07 0-2.86zM5.41 20L4 18.59l7.72-7.72 1.47 1.35L5.41 20z\"/>\n",
              "  </svg>\n",
              "      </button>\n",
              "      \n",
              "  <style>\n",
              "    .colab-df-container {\n",
              "      display:flex;\n",
              "      flex-wrap:wrap;\n",
              "      gap: 12px;\n",
              "    }\n",
              "\n",
              "    .colab-df-convert {\n",
              "      background-color: #E8F0FE;\n",
              "      border: none;\n",
              "      border-radius: 50%;\n",
              "      cursor: pointer;\n",
              "      display: none;\n",
              "      fill: #1967D2;\n",
              "      height: 32px;\n",
              "      padding: 0 0 0 0;\n",
              "      width: 32px;\n",
              "    }\n",
              "\n",
              "    .colab-df-convert:hover {\n",
              "      background-color: #E2EBFA;\n",
              "      box-shadow: 0px 1px 2px rgba(60, 64, 67, 0.3), 0px 1px 3px 1px rgba(60, 64, 67, 0.15);\n",
              "      fill: #174EA6;\n",
              "    }\n",
              "\n",
              "    [theme=dark] .colab-df-convert {\n",
              "      background-color: #3B4455;\n",
              "      fill: #D2E3FC;\n",
              "    }\n",
              "\n",
              "    [theme=dark] .colab-df-convert:hover {\n",
              "      background-color: #434B5C;\n",
              "      box-shadow: 0px 1px 3px 1px rgba(0, 0, 0, 0.15);\n",
              "      filter: drop-shadow(0px 1px 2px rgba(0, 0, 0, 0.3));\n",
              "      fill: #FFFFFF;\n",
              "    }\n",
              "  </style>\n",
              "\n",
              "      <script>\n",
              "        const buttonEl =\n",
              "          document.querySelector('#df-58d1b759-f72f-4188-b350-3ebfed8d9ea0 button.colab-df-convert');\n",
              "        buttonEl.style.display =\n",
              "          google.colab.kernel.accessAllowed ? 'block' : 'none';\n",
              "\n",
              "        async function convertToInteractive(key) {\n",
              "          const element = document.querySelector('#df-58d1b759-f72f-4188-b350-3ebfed8d9ea0');\n",
              "          const dataTable =\n",
              "            await google.colab.kernel.invokeFunction('convertToInteractive',\n",
              "                                                     [key], {});\n",
              "          if (!dataTable) return;\n",
              "\n",
              "          const docLinkHtml = 'Like what you see? Visit the ' +\n",
              "            '<a target=\"_blank\" href=https://colab.research.google.com/notebooks/data_table.ipynb>data table notebook</a>'\n",
              "            + ' to learn more about interactive tables.';\n",
              "          element.innerHTML = '';\n",
              "          dataTable['output_type'] = 'display_data';\n",
              "          await google.colab.output.renderOutput(dataTable, element);\n",
              "          const docLink = document.createElement('div');\n",
              "          docLink.innerHTML = docLinkHtml;\n",
              "          element.appendChild(docLink);\n",
              "        }\n",
              "      </script>\n",
              "    </div>\n",
              "  </div>\n",
              "  "
            ],
            "text/plain": [
              "    Returns  Volatility  AAPL weight  AMZN weight  BLK weight  GOOG weight\n",
              "0  0.352378    0.245131     0.346753     0.027954    0.282498     0.342795\n",
              "1  0.306374    0.237198     0.095898     0.301360    0.308914     0.293827\n",
              "2  0.293199    0.243758     0.063530     0.032495    0.343591     0.560384\n",
              "3  0.303165    0.240452     0.169009     0.130140    0.458046     0.242805\n",
              "4  0.342915    0.241395     0.216278     0.270366    0.162600     0.350755"
            ]
          },
          "metadata": {},
          "execution_count": 54
        }
      ]
    },
    {
      "cell_type": "markdown",
      "source": [
        "You can see that there are a number of portfolios with different weights, returns and volatility. Plotting the returns and volatility from this dataframe will give us the efficient frontier for our portfolio."
      ],
      "metadata": {
        "id": "znsHY8jwpLIz"
      }
    },
    {
      "cell_type": "code",
      "source": [
        "# Plot efficient frontier\n",
        "portfolios.plot.scatter(x='Volatility', y='Returns', marker='o', s=10, alpha=0.3, grid=True, figsize=[10,10])"
      ],
      "metadata": {
        "colab": {
          "base_uri": "https://localhost:8080/",
          "height": 625
        },
        "id": "CHLwGOk6orDJ",
        "outputId": "e5485908-625f-49d2-85ae-32bbb8b58222"
      },
      "execution_count": 55,
      "outputs": [
        {
          "output_type": "execute_result",
          "data": {
            "text/plain": [
              "<matplotlib.axes._subplots.AxesSubplot at 0x7efed153e4d0>"
            ]
          },
          "metadata": {},
          "execution_count": 55
        },
        {
          "output_type": "display_data",
          "data": {
            "image/png": "[encoded data removed]",
            "text/plain": [
              "<Figure size 720x720 with 1 Axes>"
            ]
          },
          "metadata": {
            "needs_background": "light"
          }
        }
      ]
    },
    {
      "cell_type": "markdown",
      "source": [
        "### How to read the Efficient Frontier"
      ],
      "metadata": {
        "id": "PuILkp4wqYtO"
      }
    },
    {
      "cell_type": "markdown",
      "source": [
        "Each point on the line (left edge) represents an optimal portfolio of stocks that maximises the returns for any given level of risk.\n",
        "\n",
        "The point (portfolios) in the interior are sub-optimal for a given risk level. For every interior point, there is another that offers higher returns for the same risk.\n",
        "\n",
        "On this graph, you can also see the combination of weights that will give you all possible combinations:\n",
        "\n",
        "1. Minimum volatility (left most point)\n",
        "\n",
        "2. Maximum returns (top most point)\n",
        "\n",
        "And everything in between."
      ],
      "metadata": {
        "id": "ialHugDYqZqt"
      }
    },
    {
      "cell_type": "code",
      "source": [
        "min_vol_port = portfolios.iloc[portfolios['Volatility'].idxmin()]\n",
        "# idxmin() gives us the minimum value in the column specified.                               \n",
        "min_vol_port"
      ],
      "metadata": {
        "colab": {
          "base_uri": "https://localhost:8080/"
        },
        "id": "cvHiMzqBqZ85",
        "outputId": "0e750795-1163-4750-e2c3-3f6cc7c7a2ac"
      },
      "execution_count": 56,
      "outputs": [
        {
          "output_type": "execute_result",
          "data": {
            "text/plain": [
              "Returns        0.300399\n",
              "Volatility     0.236923\n",
              "AAPL weight    0.088230\n",
              "AMZN weight    0.263108\n",
              "BLK weight     0.349838\n",
              "GOOG weight    0.298825\n",
              "Name: 485, dtype: float64"
            ]
          },
          "metadata": {},
          "execution_count": 56
        }
      ]
    },
    {
      "cell_type": "markdown",
      "source": [
        "The minimum volatility is in a portfolio where the weights of Apple, Amazon, BlackRock and Google are 8%, 26%, 34% and 29% respectively. This point can be plotted on the efficient frontier graph as shown:"
      ],
      "metadata": {
        "id": "S_h1LscmqaVN"
      }
    },
    {
      "cell_type": "code",
      "source": [
        "# plotting the minimum volatility portfolio\n",
        "plt.subplots(figsize=[10,10])\n",
        "plt.scatter(portfolios['Volatility'], portfolios['Returns'],marker='o', s=10, alpha=0.3)\n",
        "plt.scatter(min_vol_port[1], min_vol_port[0], color='r', marker='*', s=500)\n"
      ],
      "metadata": {
        "colab": {
          "base_uri": "https://localhost:8080/",
          "height": 610
        },
        "id": "mfYRIbLjq3Y3",
        "outputId": "a4003716-b9f3-4840-a0ca-04ee03467029"
      },
      "execution_count": 57,
      "outputs": [
        {
          "output_type": "execute_result",
          "data": {
            "text/plain": [
              "<matplotlib.collections.PathCollection at 0x7efed14f7110>"
            ]
          },
          "metadata": {},
          "execution_count": 57
        },
        {
          "output_type": "display_data",
          "data": {
            "image/png": "[encoded data removed]",
            "text/plain": [
              "<Figure size 720x720 with 1 Axes>"
            ]
          },
          "metadata": {
            "needs_background": "light"
          }
        }
      ]
    },
    {
      "cell_type": "markdown",
      "source": [
        "It is worthwhile to note that any point to the right of efficient frontier boundary is a sup-optimal portfolio.\n",
        "\n",
        "We found the portfolio with minimum volatility, but you will notice that the return on this portfolio is pretty low. Any sensible investor wants to maximize his return, even if it is a tradeoff with some level of risk.\n",
        "\n",
        "The question arises that how do we find this optimal risky portfolio and finally optimize our portfolio to the maximum?\n",
        "\n",
        "This is done by using a parameter called the **Sharpe Ratio**."
      ],
      "metadata": {
        "id": "iQ4lbfofq3pj"
      }
    },
    {
      "cell_type": "markdown",
      "source": [
        "### Sharpe Ratio"
      ],
      "metadata": {
        "id": "BdFpXDZPq3zs"
      }
    },
    {
      "cell_type": "markdown",
      "source": [
        "The ratio is the average return earned in excess of the risk-free rate per unit of volatility or total risk. Volatility is a measure of the price fluctuations of an asset or portfolio.\n",
        "\n",
        "The risk-free rate of return is the return on an investment with zero risk, meaning it’s the return investors could expect for taking no risk.\n",
        "\n",
        "The optimal risky portfolio is the one with the highest Sharpe ratio. The formula for this ratio is:"
      ],
      "metadata": {
        "id": "8uoxdEmsrV9H"
      }
    },
    {
      "cell_type": "markdown",
      "source": [
        "$$Sharpe \\; Ratio = \\frac{R_{p}-R_f}{\\sigma_p}$$"
      ],
      "metadata": {
        "id": "5LomYeWPrWG3"
      }
    },
    {
      "cell_type": "markdown",
      "source": [
        "where:\n",
        "\n",
        "- $R_p$ is the return of the portfolio\n",
        "\n",
        "- $R_f$ is the risk-free rate\n",
        "\n",
        "- $\\sigma_p$ is the standard deviation of the portfolio"
      ],
      "metadata": {
        "id": "a5J_e47irgcA"
      }
    },
    {
      "cell_type": "markdown",
      "source": [
        "Below is the code for finding out portfolio with maximum Sharpe Ratio. This portfolio is the optimized portfolio that we wanted to find. We define the risk-free rate to be 7.8% or 0.078."
      ],
      "metadata": {
        "id": "s1Xe2AnZrrH2"
      }
    },
    {
      "cell_type": "markdown",
      "source": [
        "### Optimal Risky Portfolio"
      ],
      "metadata": {
        "id": "ZjxCHp4Yrrbn"
      }
    },
    {
      "cell_type": "markdown",
      "source": [
        "An optimal risky portfolio can be considered as one that has highest Sharpe ratio."
      ],
      "metadata": {
        "id": "hNHjUyUHrrlN"
      }
    },
    {
      "cell_type": "code",
      "source": [
        "# Finding the optimal portfolio\n",
        "rf = 0.078 # risk factor\n",
        "optimal_risky_port = portfolios.iloc[((portfolios['Returns']-rf)/portfolios['Volatility']).idxmax()]\n",
        "optimal_risky_port"
      ],
      "metadata": {
        "colab": {
          "base_uri": "https://localhost:8080/"
        },
        "id": "0QbaFetNrgtG",
        "outputId": "cdfda8e3-fcb3-4f77-ec5f-0dcf71ba917d"
      },
      "execution_count": 58,
      "outputs": [
        {
          "output_type": "execute_result",
          "data": {
            "text/plain": [
              "Returns        0.478083\n",
              "Volatility     0.288992\n",
              "AAPL weight    0.877420\n",
              "AMZN weight    0.001323\n",
              "BLK weight     0.014148\n",
              "GOOG weight    0.107109\n",
              "Name: 7776, dtype: float64"
            ]
          },
          "metadata": {},
          "execution_count": 58
        }
      ]
    },
    {
      "cell_type": "markdown",
      "source": [
        "You can notice that while the difference in risk between minimum volatility portfolio and optimal risky portfolio is just 5%, the difference in returns is a whopping 17%.\n",
        "We can plot this point too on the graph of efficient frontier."
      ],
      "metadata": {
        "id": "puuLfc0ysWlp"
      }
    },
    {
      "cell_type": "code",
      "source": [
        "# Plotting optimal portfolio\n",
        "plt.subplots(figsize=(10, 10))\n",
        "plt.scatter(portfolios['Volatility'], portfolios['Returns'],marker='o', s=10, alpha=0.3)\n",
        "plt.scatter(min_vol_port[1], min_vol_port[0], color='r', marker='*', s=500)\n",
        "plt.scatter(optimal_risky_port[1], optimal_risky_port[0], color='g', marker='*', s=500)"
      ],
      "metadata": {
        "colab": {
          "base_uri": "https://localhost:8080/",
          "height": 610
        },
        "id": "c42DM4EnsWva",
        "outputId": "cd7e9886-8248-40e4-c657-7bc7bf0cb90b"
      },
      "execution_count": 59,
      "outputs": [
        {
          "output_type": "execute_result",
          "data": {
            "text/plain": [
              "<matplotlib.collections.PathCollection at 0x7efed145b550>"
            ]
          },
          "metadata": {},
          "execution_count": 59
        },
        {
          "output_type": "display_data",
          "data": {
            "image/png": "[encoded data removed]",
            "text/plain": [
              "<Figure size 720x720 with 1 Axes>"
            ]
          },
          "metadata": {
            "needs_background": "light"
          }
        }
      ]
    },
    {
      "cell_type": "code",
      "source": [
        ""
      ],
      "metadata": {
        "id": "zdp6GC7Aq4FP"
      },
      "execution_count": null,
      "outputs": []
    },
    {
      "cell_type": "code",
      "source": [
        ""
      ],
      "metadata": {
        "id": "ZiYAaKM3q4Pv"
      },
      "execution_count": null,
      "outputs": []
    }
  ]
}